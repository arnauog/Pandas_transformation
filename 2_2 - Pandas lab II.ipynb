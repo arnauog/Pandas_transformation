{
 "cells": [
  {
   "cell_type": "markdown",
   "metadata": {},
   "source": [
    "# Part 1 - Getting and Knowing your Data"
   ]
  },
  {
   "cell_type": "markdown",
   "metadata": {},
   "source": [
    "This time we are going to pull data directly from the internet.\n",
    "Special thanks to: https://github.com/justmarkham for sharing the dataset and materials.\n",
    "\n",
    "### Step 1. Import the necessary libraries"
   ]
  },
  {
   "cell_type": "code",
   "execution_count": 97,
   "metadata": {
    "collapsed": false,
    "jupyter": {
     "outputs_hidden": false
    }
   },
   "outputs": [],
   "source": [
    "import numpy as np\n",
    "import pandas as pd"
   ]
  },
  {
   "cell_type": "markdown",
   "metadata": {},
   "source": [
    "### Step 2. Import the dataset from this [address](https://raw.githubusercontent.com/justmarkham/DAT8/master/data/chipotle.tsv). "
   ]
  },
  {
   "cell_type": "markdown",
   "metadata": {},
   "source": [
    "### Step 3. Assign it to a variable called chipo."
   ]
  },
  {
   "cell_type": "code",
   "execution_count": 98,
   "metadata": {
    "collapsed": false,
    "jupyter": {
     "outputs_hidden": false
    }
   },
   "outputs": [],
   "source": [
    "chipo = pd.read_csv('https://raw.githubusercontent.com/justmarkham/DAT8/master/data/chipotle.tsv', sep='\\t')"
   ]
  },
  {
   "cell_type": "markdown",
   "metadata": {},
   "source": [
    "### Step 4. See the first 10 entries"
   ]
  },
  {
   "cell_type": "code",
   "execution_count": 99,
   "metadata": {
    "collapsed": false,
    "jupyter": {
     "outputs_hidden": false
    }
   },
   "outputs": [
    {
     "data": {
      "text/html": [
       "<div>\n",
       "<style scoped>\n",
       "    .dataframe tbody tr th:only-of-type {\n",
       "        vertical-align: middle;\n",
       "    }\n",
       "\n",
       "    .dataframe tbody tr th {\n",
       "        vertical-align: top;\n",
       "    }\n",
       "\n",
       "    .dataframe thead th {\n",
       "        text-align: right;\n",
       "    }\n",
       "</style>\n",
       "<table border=\"1\" class=\"dataframe\">\n",
       "  <thead>\n",
       "    <tr style=\"text-align: right;\">\n",
       "      <th></th>\n",
       "      <th>order_id</th>\n",
       "      <th>quantity</th>\n",
       "      <th>item_name</th>\n",
       "      <th>choice_description</th>\n",
       "      <th>item_price</th>\n",
       "    </tr>\n",
       "  </thead>\n",
       "  <tbody>\n",
       "    <tr>\n",
       "      <th>0</th>\n",
       "      <td>1</td>\n",
       "      <td>1</td>\n",
       "      <td>Chips and Fresh Tomato Salsa</td>\n",
       "      <td>NaN</td>\n",
       "      <td>$2.39</td>\n",
       "    </tr>\n",
       "    <tr>\n",
       "      <th>1</th>\n",
       "      <td>1</td>\n",
       "      <td>1</td>\n",
       "      <td>Izze</td>\n",
       "      <td>[Clementine]</td>\n",
       "      <td>$3.39</td>\n",
       "    </tr>\n",
       "    <tr>\n",
       "      <th>2</th>\n",
       "      <td>1</td>\n",
       "      <td>1</td>\n",
       "      <td>Nantucket Nectar</td>\n",
       "      <td>[Apple]</td>\n",
       "      <td>$3.39</td>\n",
       "    </tr>\n",
       "    <tr>\n",
       "      <th>3</th>\n",
       "      <td>1</td>\n",
       "      <td>1</td>\n",
       "      <td>Chips and Tomatillo-Green Chili Salsa</td>\n",
       "      <td>NaN</td>\n",
       "      <td>$2.39</td>\n",
       "    </tr>\n",
       "    <tr>\n",
       "      <th>4</th>\n",
       "      <td>2</td>\n",
       "      <td>2</td>\n",
       "      <td>Chicken Bowl</td>\n",
       "      <td>[Tomatillo-Red Chili Salsa (Hot), [Black Beans...</td>\n",
       "      <td>$16.98</td>\n",
       "    </tr>\n",
       "    <tr>\n",
       "      <th>5</th>\n",
       "      <td>3</td>\n",
       "      <td>1</td>\n",
       "      <td>Chicken Bowl</td>\n",
       "      <td>[Fresh Tomato Salsa (Mild), [Rice, Cheese, Sou...</td>\n",
       "      <td>$10.98</td>\n",
       "    </tr>\n",
       "    <tr>\n",
       "      <th>6</th>\n",
       "      <td>3</td>\n",
       "      <td>1</td>\n",
       "      <td>Side of Chips</td>\n",
       "      <td>NaN</td>\n",
       "      <td>$1.69</td>\n",
       "    </tr>\n",
       "    <tr>\n",
       "      <th>7</th>\n",
       "      <td>4</td>\n",
       "      <td>1</td>\n",
       "      <td>Steak Burrito</td>\n",
       "      <td>[Tomatillo Red Chili Salsa, [Fajita Vegetables...</td>\n",
       "      <td>$11.75</td>\n",
       "    </tr>\n",
       "    <tr>\n",
       "      <th>8</th>\n",
       "      <td>4</td>\n",
       "      <td>1</td>\n",
       "      <td>Steak Soft Tacos</td>\n",
       "      <td>[Tomatillo Green Chili Salsa, [Pinto Beans, Ch...</td>\n",
       "      <td>$9.25</td>\n",
       "    </tr>\n",
       "    <tr>\n",
       "      <th>9</th>\n",
       "      <td>5</td>\n",
       "      <td>1</td>\n",
       "      <td>Steak Burrito</td>\n",
       "      <td>[Fresh Tomato Salsa, [Rice, Black Beans, Pinto...</td>\n",
       "      <td>$9.25</td>\n",
       "    </tr>\n",
       "  </tbody>\n",
       "</table>\n",
       "</div>"
      ],
      "text/plain": [
       "   order_id  quantity                              item_name  \\\n",
       "0         1         1           Chips and Fresh Tomato Salsa   \n",
       "1         1         1                                   Izze   \n",
       "2         1         1                       Nantucket Nectar   \n",
       "3         1         1  Chips and Tomatillo-Green Chili Salsa   \n",
       "4         2         2                           Chicken Bowl   \n",
       "5         3         1                           Chicken Bowl   \n",
       "6         3         1                          Side of Chips   \n",
       "7         4         1                          Steak Burrito   \n",
       "8         4         1                       Steak Soft Tacos   \n",
       "9         5         1                          Steak Burrito   \n",
       "\n",
       "                                  choice_description item_price  \n",
       "0                                                NaN     $2.39   \n",
       "1                                       [Clementine]     $3.39   \n",
       "2                                            [Apple]     $3.39   \n",
       "3                                                NaN     $2.39   \n",
       "4  [Tomatillo-Red Chili Salsa (Hot), [Black Beans...    $16.98   \n",
       "5  [Fresh Tomato Salsa (Mild), [Rice, Cheese, Sou...    $10.98   \n",
       "6                                                NaN     $1.69   \n",
       "7  [Tomatillo Red Chili Salsa, [Fajita Vegetables...    $11.75   \n",
       "8  [Tomatillo Green Chili Salsa, [Pinto Beans, Ch...     $9.25   \n",
       "9  [Fresh Tomato Salsa, [Rice, Black Beans, Pinto...     $9.25   "
      ]
     },
     "execution_count": 99,
     "metadata": {},
     "output_type": "execute_result"
    }
   ],
   "source": [
    "chipo.head(10)"
   ]
  },
  {
   "cell_type": "markdown",
   "metadata": {},
   "source": [
    "### Step 5. What is the number of observations in the dataset?"
   ]
  },
  {
   "cell_type": "code",
   "execution_count": 100,
   "metadata": {
    "collapsed": false,
    "jupyter": {
     "outputs_hidden": false
    }
   },
   "outputs": [
    {
     "data": {
      "text/plain": [
       "order_id              4622\n",
       "quantity              4622\n",
       "item_name             4622\n",
       "choice_description    3376\n",
       "item_price            4622\n",
       "dtype: int64"
      ]
     },
     "execution_count": 100,
     "metadata": {},
     "output_type": "execute_result"
    }
   ],
   "source": [
    "# Solution 1\n",
    "chipo.count()"
   ]
  },
  {
   "cell_type": "code",
   "execution_count": 101,
   "metadata": {
    "collapsed": false,
    "jupyter": {
     "outputs_hidden": false
    }
   },
   "outputs": [
    {
     "data": {
      "text/plain": [
       "(4622, 5)"
      ]
     },
     "execution_count": 101,
     "metadata": {},
     "output_type": "execute_result"
    }
   ],
   "source": [
    "# Solution 2\n",
    "chipo.shape"
   ]
  },
  {
   "cell_type": "markdown",
   "metadata": {},
   "source": [
    "### Step 6. What is the number of columns in the dataset?"
   ]
  },
  {
   "cell_type": "code",
   "execution_count": 102,
   "metadata": {
    "collapsed": false,
    "jupyter": {
     "outputs_hidden": false
    }
   },
   "outputs": [
    {
     "data": {
      "text/plain": [
       "(4622, 5)"
      ]
     },
     "execution_count": 102,
     "metadata": {},
     "output_type": "execute_result"
    }
   ],
   "source": [
    "# with shape we can see the number of columns and rows. We have 5 columns\n",
    "chipo.shape"
   ]
  },
  {
   "cell_type": "code",
   "execution_count": 103,
   "metadata": {},
   "outputs": [
    {
     "data": {
      "text/plain": [
       "5"
      ]
     },
     "execution_count": 103,
     "metadata": {},
     "output_type": "execute_result"
    }
   ],
   "source": [
    "# or we can also use the columns method and get the length\n",
    "len(chipo.columns)"
   ]
  },
  {
   "cell_type": "markdown",
   "metadata": {},
   "source": [
    "### Step 7. Print the name of all the columns."
   ]
  },
  {
   "cell_type": "code",
   "execution_count": 104,
   "metadata": {
    "collapsed": false,
    "jupyter": {
     "outputs_hidden": false
    }
   },
   "outputs": [
    {
     "data": {
      "text/plain": [
       "Index(['order_id', 'quantity', 'item_name', 'choice_description',\n",
       "       'item_price'],\n",
       "      dtype='object')"
      ]
     },
     "execution_count": 104,
     "metadata": {},
     "output_type": "execute_result"
    }
   ],
   "source": [
    "chipo.columns"
   ]
  },
  {
   "cell_type": "markdown",
   "metadata": {},
   "source": [
    "### Step 8. How is the dataset indexed?"
   ]
  },
  {
   "cell_type": "code",
   "execution_count": 105,
   "metadata": {
    "collapsed": false,
    "jupyter": {
     "outputs_hidden": false
    }
   },
   "outputs": [
    {
     "data": {
      "text/html": [
       "<div>\n",
       "<style scoped>\n",
       "    .dataframe tbody tr th:only-of-type {\n",
       "        vertical-align: middle;\n",
       "    }\n",
       "\n",
       "    .dataframe tbody tr th {\n",
       "        vertical-align: top;\n",
       "    }\n",
       "\n",
       "    .dataframe thead th {\n",
       "        text-align: right;\n",
       "    }\n",
       "</style>\n",
       "<table border=\"1\" class=\"dataframe\">\n",
       "  <thead>\n",
       "    <tr style=\"text-align: right;\">\n",
       "      <th></th>\n",
       "      <th>order_id</th>\n",
       "      <th>quantity</th>\n",
       "      <th>item_name</th>\n",
       "      <th>choice_description</th>\n",
       "      <th>item_price</th>\n",
       "    </tr>\n",
       "  </thead>\n",
       "  <tbody>\n",
       "    <tr>\n",
       "      <th>0</th>\n",
       "      <td>1</td>\n",
       "      <td>1</td>\n",
       "      <td>Chips and Fresh Tomato Salsa</td>\n",
       "      <td>NaN</td>\n",
       "      <td>$2.39</td>\n",
       "    </tr>\n",
       "    <tr>\n",
       "      <th>1</th>\n",
       "      <td>1</td>\n",
       "      <td>1</td>\n",
       "      <td>Izze</td>\n",
       "      <td>[Clementine]</td>\n",
       "      <td>$3.39</td>\n",
       "    </tr>\n",
       "    <tr>\n",
       "      <th>2</th>\n",
       "      <td>1</td>\n",
       "      <td>1</td>\n",
       "      <td>Nantucket Nectar</td>\n",
       "      <td>[Apple]</td>\n",
       "      <td>$3.39</td>\n",
       "    </tr>\n",
       "    <tr>\n",
       "      <th>3</th>\n",
       "      <td>1</td>\n",
       "      <td>1</td>\n",
       "      <td>Chips and Tomatillo-Green Chili Salsa</td>\n",
       "      <td>NaN</td>\n",
       "      <td>$2.39</td>\n",
       "    </tr>\n",
       "    <tr>\n",
       "      <th>4</th>\n",
       "      <td>2</td>\n",
       "      <td>2</td>\n",
       "      <td>Chicken Bowl</td>\n",
       "      <td>[Tomatillo-Red Chili Salsa (Hot), [Black Beans...</td>\n",
       "      <td>$16.98</td>\n",
       "    </tr>\n",
       "    <tr>\n",
       "      <th>...</th>\n",
       "      <td>...</td>\n",
       "      <td>...</td>\n",
       "      <td>...</td>\n",
       "      <td>...</td>\n",
       "      <td>...</td>\n",
       "    </tr>\n",
       "    <tr>\n",
       "      <th>4617</th>\n",
       "      <td>1833</td>\n",
       "      <td>1</td>\n",
       "      <td>Steak Burrito</td>\n",
       "      <td>[Fresh Tomato Salsa, [Rice, Black Beans, Sour ...</td>\n",
       "      <td>$11.75</td>\n",
       "    </tr>\n",
       "    <tr>\n",
       "      <th>4618</th>\n",
       "      <td>1833</td>\n",
       "      <td>1</td>\n",
       "      <td>Steak Burrito</td>\n",
       "      <td>[Fresh Tomato Salsa, [Rice, Sour Cream, Cheese...</td>\n",
       "      <td>$11.75</td>\n",
       "    </tr>\n",
       "    <tr>\n",
       "      <th>4619</th>\n",
       "      <td>1834</td>\n",
       "      <td>1</td>\n",
       "      <td>Chicken Salad Bowl</td>\n",
       "      <td>[Fresh Tomato Salsa, [Fajita Vegetables, Pinto...</td>\n",
       "      <td>$11.25</td>\n",
       "    </tr>\n",
       "    <tr>\n",
       "      <th>4620</th>\n",
       "      <td>1834</td>\n",
       "      <td>1</td>\n",
       "      <td>Chicken Salad Bowl</td>\n",
       "      <td>[Fresh Tomato Salsa, [Fajita Vegetables, Lettu...</td>\n",
       "      <td>$8.75</td>\n",
       "    </tr>\n",
       "    <tr>\n",
       "      <th>4621</th>\n",
       "      <td>1834</td>\n",
       "      <td>1</td>\n",
       "      <td>Chicken Salad Bowl</td>\n",
       "      <td>[Fresh Tomato Salsa, [Fajita Vegetables, Pinto...</td>\n",
       "      <td>$8.75</td>\n",
       "    </tr>\n",
       "  </tbody>\n",
       "</table>\n",
       "<p>4622 rows × 5 columns</p>\n",
       "</div>"
      ],
      "text/plain": [
       "      order_id  quantity                              item_name  \\\n",
       "0            1         1           Chips and Fresh Tomato Salsa   \n",
       "1            1         1                                   Izze   \n",
       "2            1         1                       Nantucket Nectar   \n",
       "3            1         1  Chips and Tomatillo-Green Chili Salsa   \n",
       "4            2         2                           Chicken Bowl   \n",
       "...        ...       ...                                    ...   \n",
       "4617      1833         1                          Steak Burrito   \n",
       "4618      1833         1                          Steak Burrito   \n",
       "4619      1834         1                     Chicken Salad Bowl   \n",
       "4620      1834         1                     Chicken Salad Bowl   \n",
       "4621      1834         1                     Chicken Salad Bowl   \n",
       "\n",
       "                                     choice_description item_price  \n",
       "0                                                   NaN     $2.39   \n",
       "1                                          [Clementine]     $3.39   \n",
       "2                                               [Apple]     $3.39   \n",
       "3                                                   NaN     $2.39   \n",
       "4     [Tomatillo-Red Chili Salsa (Hot), [Black Beans...    $16.98   \n",
       "...                                                 ...        ...  \n",
       "4617  [Fresh Tomato Salsa, [Rice, Black Beans, Sour ...    $11.75   \n",
       "4618  [Fresh Tomato Salsa, [Rice, Sour Cream, Cheese...    $11.75   \n",
       "4619  [Fresh Tomato Salsa, [Fajita Vegetables, Pinto...    $11.25   \n",
       "4620  [Fresh Tomato Salsa, [Fajita Vegetables, Lettu...     $8.75   \n",
       "4621  [Fresh Tomato Salsa, [Fajita Vegetables, Pinto...     $8.75   \n",
       "\n",
       "[4622 rows x 5 columns]"
      ]
     },
     "execution_count": 105,
     "metadata": {},
     "output_type": "execute_result"
    }
   ],
   "source": [
    "chipo"
   ]
  },
  {
   "cell_type": "code",
   "execution_count": 106,
   "metadata": {},
   "outputs": [],
   "source": [
    "# by default with integers"
   ]
  },
  {
   "cell_type": "markdown",
   "metadata": {},
   "source": [
    "### Step 9. Which was the most-ordered item? "
   ]
  },
  {
   "cell_type": "code",
   "execution_count": 107,
   "metadata": {
    "collapsed": false,
    "jupyter": {
     "outputs_hidden": false
    }
   },
   "outputs": [
    {
     "data": {
      "text/html": [
       "<div>\n",
       "<style scoped>\n",
       "    .dataframe tbody tr th:only-of-type {\n",
       "        vertical-align: middle;\n",
       "    }\n",
       "\n",
       "    .dataframe tbody tr th {\n",
       "        vertical-align: top;\n",
       "    }\n",
       "\n",
       "    .dataframe thead th {\n",
       "        text-align: right;\n",
       "    }\n",
       "</style>\n",
       "<table border=\"1\" class=\"dataframe\">\n",
       "  <thead>\n",
       "    <tr style=\"text-align: right;\">\n",
       "      <th></th>\n",
       "      <th>order_id</th>\n",
       "      <th>quantity</th>\n",
       "      <th>item_name</th>\n",
       "      <th>choice_description</th>\n",
       "      <th>item_price</th>\n",
       "    </tr>\n",
       "  </thead>\n",
       "  <tbody>\n",
       "    <tr>\n",
       "      <th>3598</th>\n",
       "      <td>1443</td>\n",
       "      <td>15</td>\n",
       "      <td>Chips and Fresh Tomato Salsa</td>\n",
       "      <td>NaN</td>\n",
       "      <td>$44.25</td>\n",
       "    </tr>\n",
       "    <tr>\n",
       "      <th>4152</th>\n",
       "      <td>1660</td>\n",
       "      <td>10</td>\n",
       "      <td>Bottled Water</td>\n",
       "      <td>NaN</td>\n",
       "      <td>$15.00</td>\n",
       "    </tr>\n",
       "    <tr>\n",
       "      <th>3887</th>\n",
       "      <td>1559</td>\n",
       "      <td>8</td>\n",
       "      <td>Side of Chips</td>\n",
       "      <td>NaN</td>\n",
       "      <td>$13.52</td>\n",
       "    </tr>\n",
       "    <tr>\n",
       "      <th>3599</th>\n",
       "      <td>1443</td>\n",
       "      <td>7</td>\n",
       "      <td>Bottled Water</td>\n",
       "      <td>NaN</td>\n",
       "      <td>$10.50</td>\n",
       "    </tr>\n",
       "    <tr>\n",
       "      <th>2441</th>\n",
       "      <td>970</td>\n",
       "      <td>5</td>\n",
       "      <td>Bottled Water</td>\n",
       "      <td>NaN</td>\n",
       "      <td>$7.50</td>\n",
       "    </tr>\n",
       "    <tr>\n",
       "      <th>...</th>\n",
       "      <td>...</td>\n",
       "      <td>...</td>\n",
       "      <td>...</td>\n",
       "      <td>...</td>\n",
       "      <td>...</td>\n",
       "    </tr>\n",
       "    <tr>\n",
       "      <th>1592</th>\n",
       "      <td>645</td>\n",
       "      <td>1</td>\n",
       "      <td>Chicken Bowl</td>\n",
       "      <td>[Fresh Tomato Salsa, [Fajita Vegetables, Rice,...</td>\n",
       "      <td>$11.25</td>\n",
       "    </tr>\n",
       "    <tr>\n",
       "      <th>1593</th>\n",
       "      <td>645</td>\n",
       "      <td>1</td>\n",
       "      <td>Chips and Tomatillo Green Chili Salsa</td>\n",
       "      <td>NaN</td>\n",
       "      <td>$2.95</td>\n",
       "    </tr>\n",
       "    <tr>\n",
       "      <th>1594</th>\n",
       "      <td>646</td>\n",
       "      <td>1</td>\n",
       "      <td>Carnitas Bowl</td>\n",
       "      <td>[Tomatillo Red Chili Salsa, [Fajita Vegetables...</td>\n",
       "      <td>$9.25</td>\n",
       "    </tr>\n",
       "    <tr>\n",
       "      <th>1595</th>\n",
       "      <td>646</td>\n",
       "      <td>1</td>\n",
       "      <td>Chicken Burrito</td>\n",
       "      <td>[Roasted Chili Corn Salsa, [Fajita Vegetables,...</td>\n",
       "      <td>$11.25</td>\n",
       "    </tr>\n",
       "    <tr>\n",
       "      <th>4621</th>\n",
       "      <td>1834</td>\n",
       "      <td>1</td>\n",
       "      <td>Chicken Salad Bowl</td>\n",
       "      <td>[Fresh Tomato Salsa, [Fajita Vegetables, Pinto...</td>\n",
       "      <td>$8.75</td>\n",
       "    </tr>\n",
       "  </tbody>\n",
       "</table>\n",
       "<p>4622 rows × 5 columns</p>\n",
       "</div>"
      ],
      "text/plain": [
       "      order_id  quantity                              item_name  \\\n",
       "3598      1443        15           Chips and Fresh Tomato Salsa   \n",
       "4152      1660        10                          Bottled Water   \n",
       "3887      1559         8                          Side of Chips   \n",
       "3599      1443         7                          Bottled Water   \n",
       "2441       970         5                          Bottled Water   \n",
       "...        ...       ...                                    ...   \n",
       "1592       645         1                           Chicken Bowl   \n",
       "1593       645         1  Chips and Tomatillo Green Chili Salsa   \n",
       "1594       646         1                          Carnitas Bowl   \n",
       "1595       646         1                        Chicken Burrito   \n",
       "4621      1834         1                     Chicken Salad Bowl   \n",
       "\n",
       "                                     choice_description item_price  \n",
       "3598                                                NaN    $44.25   \n",
       "4152                                                NaN    $15.00   \n",
       "3887                                                NaN    $13.52   \n",
       "3599                                                NaN    $10.50   \n",
       "2441                                                NaN     $7.50   \n",
       "...                                                 ...        ...  \n",
       "1592  [Fresh Tomato Salsa, [Fajita Vegetables, Rice,...    $11.25   \n",
       "1593                                                NaN     $2.95   \n",
       "1594  [Tomatillo Red Chili Salsa, [Fajita Vegetables...     $9.25   \n",
       "1595  [Roasted Chili Corn Salsa, [Fajita Vegetables,...    $11.25   \n",
       "4621  [Fresh Tomato Salsa, [Fajita Vegetables, Pinto...     $8.75   \n",
       "\n",
       "[4622 rows x 5 columns]"
      ]
     },
     "execution_count": 107,
     "metadata": {},
     "output_type": "execute_result"
    }
   ],
   "source": [
    "chipo.sort_values('quantity', ascending=False)"
   ]
  },
  {
   "cell_type": "code",
   "execution_count": 108,
   "metadata": {},
   "outputs": [
    {
     "data": {
      "text/html": [
       "<div>\n",
       "<style scoped>\n",
       "    .dataframe tbody tr th:only-of-type {\n",
       "        vertical-align: middle;\n",
       "    }\n",
       "\n",
       "    .dataframe tbody tr th {\n",
       "        vertical-align: top;\n",
       "    }\n",
       "\n",
       "    .dataframe thead th {\n",
       "        text-align: right;\n",
       "    }\n",
       "</style>\n",
       "<table border=\"1\" class=\"dataframe\">\n",
       "  <thead>\n",
       "    <tr style=\"text-align: right;\">\n",
       "      <th></th>\n",
       "      <th>order_id</th>\n",
       "      <th>quantity</th>\n",
       "      <th>item_name</th>\n",
       "      <th>choice_description</th>\n",
       "      <th>item_price</th>\n",
       "    </tr>\n",
       "  </thead>\n",
       "  <tbody>\n",
       "    <tr>\n",
       "      <th>3598</th>\n",
       "      <td>1443</td>\n",
       "      <td>15</td>\n",
       "      <td>Chips and Fresh Tomato Salsa</td>\n",
       "      <td>NaN</td>\n",
       "      <td>$44.25</td>\n",
       "    </tr>\n",
       "  </tbody>\n",
       "</table>\n",
       "</div>"
      ],
      "text/plain": [
       "      order_id  quantity                     item_name choice_description  \\\n",
       "3598      1443        15  Chips and Fresh Tomato Salsa                NaN   \n",
       "\n",
       "     item_price  \n",
       "3598    $44.25   "
      ]
     },
     "execution_count": 108,
     "metadata": {},
     "output_type": "execute_result"
    }
   ],
   "source": [
    "maximo = chipo['quantity']==15\n",
    "chipo[maximo]"
   ]
  },
  {
   "cell_type": "code",
   "execution_count": 109,
   "metadata": {},
   "outputs": [
    {
     "data": {
      "text/plain": [
       "'Chips and Fresh Tomato Salsa'"
      ]
     },
     "execution_count": 109,
     "metadata": {},
     "output_type": "execute_result"
    }
   ],
   "source": [
    "max_item = chipo.loc[3598, 'item_name']\n",
    "max_item"
   ]
  },
  {
   "cell_type": "markdown",
   "metadata": {},
   "source": [
    "### Step 10. For the most-ordered item, how many items were ordered?"
   ]
  },
  {
   "cell_type": "code",
   "execution_count": 110,
   "metadata": {},
   "outputs": [
    {
     "data": {
      "text/plain": [
       "15"
      ]
     },
     "execution_count": 110,
     "metadata": {},
     "output_type": "execute_result"
    }
   ],
   "source": [
    "# we can see already that it was sold 15 times\n",
    "# or we can just get the max number of the column 'quantity'\n",
    "chipo.quantity.max()"
   ]
  },
  {
   "cell_type": "markdown",
   "metadata": {},
   "source": [
    "### Step 11. What was the most ordered item in the choice_description column?"
   ]
  },
  {
   "cell_type": "code",
   "execution_count": 111,
   "metadata": {
    "collapsed": false,
    "jupyter": {
     "outputs_hidden": false
    }
   },
   "outputs": [
    {
     "data": {
      "text/plain": [
       "choice_description\n",
       "[Diet Coke]                                                                                                                134\n",
       "[Coke]                                                                                                                     123\n",
       "[Sprite]                                                                                                                    77\n",
       "[Fresh Tomato Salsa, [Rice, Black Beans, Cheese, Sour Cream, Lettuce]]                                                      42\n",
       "[Fresh Tomato Salsa, [Rice, Black Beans, Cheese, Sour Cream, Guacamole, Lettuce]]                                           40\n",
       "                                                                                                                          ... \n",
       "[Roasted Chili Corn Salsa, [Fajita Vegetables, Rice, Cheese, Guacamole, Lettuce]]                                            1\n",
       "[Roasted Chili Corn Salsa, [Fajita Vegetables, Rice, Cheese, Sour Cream, Guacamole]]                                         1\n",
       "[Roasted Chili Corn Salsa, [Fajita Vegetables, Rice, Guacamole, Lettuce]]                                                    1\n",
       "[Roasted Chili Corn Salsa, [Fajita Vegetables, Rice, Guacamole]]                                                             1\n",
       "[[Tomatillo-Red Chili Salsa (Hot), Tomatillo-Green Chili Salsa (Medium)], [Rice, Pinto Beans, Fajita Veggies, Lettuce]]      1\n",
       "Name: count, Length: 1043, dtype: int64"
      ]
     },
     "execution_count": 111,
     "metadata": {},
     "output_type": "execute_result"
    }
   ],
   "source": [
    "chipo.value_counts('choice_description')"
   ]
  },
  {
   "cell_type": "code",
   "execution_count": 112,
   "metadata": {},
   "outputs": [
    {
     "data": {
      "text/plain": [
       "'[Diet Coke]'"
      ]
     },
     "execution_count": 112,
     "metadata": {},
     "output_type": "execute_result"
    }
   ],
   "source": [
    "# we can see the most ordered item was 'Diet Coke' with a total number of 134 times.\n",
    "# we can get only the product with idxmax(), although we haven't covered it at class\n",
    "\n",
    "chipo.value_counts('choice_description').idxmax()"
   ]
  },
  {
   "cell_type": "markdown",
   "metadata": {},
   "source": [
    "### Step 12. How many items were orderd in total?"
   ]
  },
  {
   "cell_type": "code",
   "execution_count": 113,
   "metadata": {
    "collapsed": false,
    "jupyter": {
     "outputs_hidden": false
    }
   },
   "outputs": [
    {
     "data": {
      "text/plain": [
       "4972"
      ]
     },
     "execution_count": 113,
     "metadata": {},
     "output_type": "execute_result"
    }
   ],
   "source": [
    "chipo.quantity.sum()"
   ]
  },
  {
   "cell_type": "markdown",
   "metadata": {},
   "source": [
    "### Step 13. Turn the item price into a float"
   ]
  },
  {
   "cell_type": "markdown",
   "metadata": {},
   "source": [
    "#### Step 13.a. Check the item price type"
   ]
  },
  {
   "cell_type": "code",
   "execution_count": 114,
   "metadata": {},
   "outputs": [
    {
     "data": {
      "text/plain": [
       "dtype('O')"
      ]
     },
     "execution_count": 114,
     "metadata": {},
     "output_type": "execute_result"
    }
   ],
   "source": [
    "chipo.item_price.dtype"
   ]
  },
  {
   "cell_type": "code",
   "execution_count": 115,
   "metadata": {},
   "outputs": [
    {
     "data": {
      "text/plain": [
       "0        $2.39 \n",
       "1        $3.39 \n",
       "2        $3.39 \n",
       "3        $2.39 \n",
       "4       $16.98 \n",
       "         ...   \n",
       "4617    $11.75 \n",
       "4618    $11.75 \n",
       "4619    $11.25 \n",
       "4620     $8.75 \n",
       "4621     $8.75 \n",
       "Name: item_price, Length: 4622, dtype: object"
      ]
     },
     "execution_count": 115,
     "metadata": {},
     "output_type": "execute_result"
    }
   ],
   "source": [
    "chipo.item_price"
   ]
  },
  {
   "cell_type": "code",
   "execution_count": 116,
   "metadata": {},
   "outputs": [
    {
     "data": {
      "text/plain": [
       "order_id               int64\n",
       "quantity               int64\n",
       "item_name             object\n",
       "choice_description    object\n",
       "item_price            object\n",
       "dtype: object"
      ]
     },
     "execution_count": 116,
     "metadata": {},
     "output_type": "execute_result"
    }
   ],
   "source": [
    "chipo.dtypes"
   ]
  },
  {
   "cell_type": "markdown",
   "metadata": {},
   "source": [
    "#### Step 13.b. Create a lambda function and change the type of item price"
   ]
  },
  {
   "cell_type": "code",
   "execution_count": 117,
   "metadata": {
    "collapsed": true,
    "jupyter": {
     "outputs_hidden": true
    }
   },
   "outputs": [
    {
     "name": "stdout",
     "output_type": "stream",
     "text": [
      "['2.39 ', '3.39 ', '3.39 ', '2.39 ', '16.98 ', '10.98 ', '1.69 ', '11.75 ', '9.25 ', '9.25 ', '4.45 ', '8.75 ', '8.75 ', '11.25 ', '4.45 ', '2.39 ', '8.49 ', '8.49 ', '2.18 ', '8.75 ', '4.45 ', '8.99 ', '3.39 ', '10.98 ', '3.39 ', '2.39 ', '8.49 ', '8.99 ', '1.09 ', '8.49 ', '2.39 ', '8.99 ', '1.69 ', '8.99 ', '1.09 ', '8.75 ', '8.75 ', '4.45 ', '2.95 ', '11.75 ', '2.15 ', '4.45 ', '11.25 ', '11.75 ', '8.75 ', '10.98 ', '8.99 ', '3.39 ', '8.99 ', '3.99 ', '8.99 ', '2.18 ', '10.98 ', '1.09 ', '8.99 ', '2.39 ', '9.25 ', '11.25 ', '11.75 ', '2.15 ', '4.45 ', '9.25 ', '11.25 ', '8.75 ', '8.99 ', '8.99 ', '3.39 ', '8.99 ', '10.98 ', '8.99 ', '1.69 ', '8.99 ', '3.99 ', '8.75 ', '4.45 ', '8.75 ', '8.75 ', '2.15 ', '8.75 ', '11.25 ', '2.15 ', '9.25 ', '8.75 ', '8.75 ', '9.25 ', '8.49 ', '8.99 ', '1.09 ', '9.25 ', '2.95 ', '11.75 ', '11.75 ', '9.25 ', '11.75 ', '4.45 ', '9.25 ', '4.45 ', '11.75 ', '8.75 ', '8.75 ', '4.45 ', '8.99 ', '8.99 ', '3.99 ', '8.49 ', '3.39 ', '8.99 ', '1.09 ', '9.25 ', '4.45 ', '8.75 ', '2.95 ', '4.45 ', '2.39 ', '8.49 ', '8.99 ', '8.49 ', '1.09 ', '8.99 ', '3.99 ', '8.75 ', '9.25 ', '4.45 ', '11.25 ', '4.45 ', '8.99 ', '1.09 ', '9.25 ', '2.95 ', '4.45 ', '11.75 ', '4.45 ', '8.49 ', '2.39 ', '10.98 ', '22.50 ', '11.75 ', '4.45 ', '11.25 ', '4.45 ', '11.25 ', '4.45 ', '11.25 ', '11.25 ', '11.75 ', '9.25 ', '4.45 ', '11.48 ', '17.98 ', '1.69 ', '17.50 ', '4.45 ', '8.49 ', '2.39 ', '17.50 ', '4.45 ', '4.45 ', '11.25 ', '11.75 ', '10.98 ', '8.49 ', '10.98 ', '2.18 ', '11.48 ', '8.49 ', '2.39 ', '4.45 ', '11.25 ', '11.75 ', '8.75 ', '8.49 ', '2.18 ', '8.49 ', '3.39 ', '8.49 ', '8.99 ', '10.98 ', '11.48 ', '8.49 ', '1.09 ', '1.09 ', '9.25 ', '8.75 ', '2.95 ', '9.25 ', '4.45 ', '11.25 ', '11.48 ', '8.49 ', '8.49 ', '8.99 ', '2.39 ', '11.25 ', '8.75 ', '2.95 ', '1.09 ', '8.99 ', '8.49 ', '2.39 ', '10.98 ', '1.09 ', '3.99 ', '11.25 ', '8.75 ', '8.49 ', '3.39 ', '8.75 ', '9.25 ', '2.15 ', '11.25 ', '11.25 ', '11.25 ', '4.45 ', '22.50 ', '4.45 ', '11.75 ', '8.75 ', '17.50 ', '8.75 ', '9.25 ', '8.75 ', '2.15 ', '9.25 ', '4.30 ', '8.75 ', '11.25 ', '2.15 ', '8.99 ', '1.09 ', '8.99 ', '3.99 ', '8.75 ', '2.95 ', '2.95 ', '11.75 ', '5.90 ', '9.25 ', '9.25 ', '11.75 ', '9.25 ', '2.95 ', '17.50 ', '8.75 ', '9.25 ', '10.98 ', '8.99 ', '1.09 ', '1.09 ', '1.09 ', '8.99 ', '10.98 ', '1.09 ', '8.75 ', '8.75 ', '9.25 ', '9.25 ', '8.75 ', '8.75 ', '8.99 ', '8.99 ', '8.99 ', '1.09 ', '11.75 ', '1.25 ', '8.99 ', '2.39 ', '9.25 ', '2.95 ', '8.99 ', '3.99 ', '8.49 ', '2.39 ', '8.49 ', '8.49 ', '8.49 ', '1.69 ', '8.49 ', '3.99 ', '8.99 ', '1.69 ', '1.09 ', '23.78 ', '17.50 ', '2.15 ', '8.75 ', '9.25 ', '9.25 ', '8.75 ', '4.45 ', '8.75 ', '11.25 ', '11.25 ', '1.25 ', '9.25 ', '4.45 ', '11.25 ', '11.75 ', '11.75 ', '6.49 ', '8.99 ', '2.39 ', '8.49 ', '2.39 ', '11.25 ', '8.75 ', '2.15 ', '8.99 ', '1.69 ', '8.75 ', '11.25 ', '2.15 ', '4.45 ', '8.75 ', '8.49 ', '8.99 ', '17.50 ', '8.49 ', '1.09 ', '1.09 ', '8.75 ', '1.25 ', '2.15 ', '11.08 ', '8.49 ', '8.49 ', '8.99 ', '2.39 ', '8.75 ', '2.15 ', '1.50 ', '11.25 ', '2.15 ', '8.49 ', '8.49 ', '11.75 ', '9.25 ', '11.75 ', '1.25 ', '11.25 ', '8.75 ', '4.45 ', '6.49 ', '9.25 ', '2.95 ', '11.25 ', '4.45 ', '1.25 ', '1.25 ', '8.49 ', '2.39 ', '2.18 ', '8.49 ', '2.18 ', '22.16 ', '17.50 ', '8.75 ', '2.95 ', '6.49 ', '8.99 ', '3.39 ', '3.39 ', '8.99 ', '8.49 ', '11.25 ', '2.15 ', '11.25 ', '2.95 ', '11.25 ', '1.25 ', '8.99 ', '1.09 ', '8.75 ', '8.75 ', '9.25 ', '2.95 ', '11.75 ', '1.50 ', '8.99 ', '1.09 ', '11.25 ', '1.25 ', '1.25 ', '11.25 ', '11.75 ', '2.15 ', '8.99 ', '1.69 ', '11.75 ', '6.49 ', '8.75 ', '9.25 ', '11.25 ', '4.45 ', '1.25 ', '11.25 ', '4.45 ', '8.49 ', '8.99 ', '8.49 ', '8.99 ', '11.25 ', '1.25 ', '11.75 ', '1.25 ', '11.75 ', '9.25 ', '4.45 ', '11.25 ', '2.15 ', '32.94 ', '1.25 ', '11.25 ', '11.48 ', '1.69 ', '1.09 ', '17.50 ', '4.45 ', '6.49 ', '9.25 ', '8.75 ', '9.25 ', '9.25 ', '8.75 ', '8.75 ', '2.15 ', '2.95 ', '17.50 ', '10.98 ', '11.48 ', '11.48 ', '3.39 ', '8.99 ', '1.69 ', '8.99 ', '1.09 ', '10.98 ', '3.39 ', '8.99 ', '1.09 ', '9.25 ', '8.75 ', '11.25 ', '4.45 ', '2.95 ', '9.25 ', '22.20 ', '8.49 ', '8.99 ', '8.75 ', '8.75 ', '11.75 ', '8.75 ', '11.25 ', '9.25 ', '11.25 ', '11.25 ', '8.75 ', '11.25 ', '2.95 ', '1.25 ', '8.49 ', '1.69 ', '11.75 ', '11.25 ', '8.75 ', '8.75 ', '4.45 ', '8.49 ', '3.99 ', '8.49 ', '3.99 ', '11.48 ', '1.69 ', '1.09 ', '11.25 ', '1.50 ', '10.58 ', '1.69 ', '9.25 ', '11.25 ', '8.75 ', '9.25 ', '11.25 ', '11.25 ', '8.75 ', '11.75 ', '8.75 ', '8.75 ', '8.75 ', '2.15 ', '11.25 ', '11.75 ', '2.50 ', '4.45 ', '9.25 ', '4.45 ', '11.25 ', '8.49 ', '3.99 ', '9.25 ', '9.25 ', '11.25 ', '9.25 ', '11.75 ', '11.25 ', '1.25 ', '23.50 ', '1.25 ', '8.99 ', '8.49 ', '7.40 ', '7.40 ', '8.75 ', '1.25 ', '4.45 ', '8.75 ', '2.15 ', '8.75 ', '4.45 ', '7.40 ', '7.40 ', '7.40 ', '8.99 ', '3.99 ', '8.99 ', '1.69 ', '8.75 ', '8.75 ', '8.75 ', '8.75 ', '11.25 ', '11.25 ', '2.95 ', '8.75 ', '18.50 ', '8.49 ', '3.99 ', '2.95 ', '9.25 ', '9.25 ', '3.00 ', '1.25 ', '8.75 ', '9.25 ', '4.45 ', '8.75 ', '11.25 ', '4.45 ', '10.98 ', '22.16 ', '4.45 ', '8.75 ', '9.25 ', '6.49 ', '9.25 ', '11.25 ', '8.75 ', '9.25 ', '2.15 ', '9.25 ', '4.45 ', '9.25 ', '2.95 ', '9.25 ', '8.75 ', '9.25 ', '1.25 ', '1.25 ', '8.75 ', '8.75 ', '9.25 ', '4.45 ', '11.75 ', '11.75 ', '11.75 ', '9.25 ', '9.25 ', '16.98 ', '2.39 ', '3.39 ', '3.39 ', '9.25 ', '11.75 ', '11.25 ', '2.15 ', '8.75 ', '9.25 ', '4.45 ', '10.98 ', '11.25 ', '9.25 ', '22.50 ', '9.25 ', '2.95 ', '1.50 ', '11.48 ', '8.49 ', '1.69 ', '8.49 ', '8.49 ', '8.49 ', '6.78 ', '11.75 ', '4.45 ', '8.75 ', '4.45 ', '11.89 ', '9.39 ', '8.75 ', '2.95 ', '1.25 ', '9.25 ', '8.75 ', '23.78 ', '8.75 ', '9.25 ', '2.15 ', '2.15 ', '1.25 ', '8.49 ', '3.99 ', '10.98 ', '1.09 ', '8.75 ', '4.45 ', '8.75 ', '11.75 ', '2.95 ', '4.45 ', '9.25 ', '8.75 ', '8.49 ', '3.99 ', '22.50 ', '11.25 ', '1.25 ', '8.75 ', '8.75 ', '18.50 ', '6.49 ', '8.75 ', '8.75 ', '4.45 ', '8.49 ', '3.99 ', '8.99 ', '1.09 ', '8.49 ', '2.39 ', '11.48 ', '1.69 ', '2.50 ', '9.25 ', '1.50 ', '17.50 ', '2.95 ', '8.75 ', '4.45 ', '11.75 ', '8.75 ', '8.49 ', '1.69 ', '8.49 ', '3.99 ', '8.99 ', '8.99 ', '3.99 ', '8.99 ', '11.25 ', '4.45 ', '1.25 ', '3.99 ', '10.98 ', '7.40 ', '3.00 ', '7.40 ', '4.00 ', '8.49 ', '3.99 ', '9.25 ', '4.45 ', '11.25 ', '1.25 ', '11.75 ', '1.25 ', '11.25 ', '2.15 ', '11.25 ', '4.45 ', '3.75 ', '11.75 ', '8.99 ', '2.39 ', '8.75 ', '4.45 ', '1.25 ', '8.99 ', '8.49 ', '2.18 ', '8.49 ', '2.18 ', '1.09 ', '8.75 ', '2.95 ', '1.25 ', '1.50 ', '11.25 ', '9.25 ', '2.95 ', '1.25 ', '8.49 ', '3.99 ', '11.48 ', '3.99 ', '8.49 ', '11.25 ', '1.25 ', '8.99 ', '1.69 ', '11.25 ', '1.25 ', '6.49 ', '8.75 ', '9.25 ', '8.75 ', '2.95 ', '8.75 ', '11.75 ', '8.69 ', '8.69 ', '2.29 ', '3.99 ', '8.49 ', '8.75 ', '8.75 ', '1.25 ', '11.75 ', '11.25 ', '11.25 ', '11.25 ', '1.25 ', '9.25 ', '11.75 ', '6.49 ', '3.99 ', '8.49 ', '11.25 ', '2.15 ', '11.25 ', '11.89 ', '8.99 ', '1.69 ', '8.99 ', '8.99 ', '3.99 ', '8.99 ', '9.25 ', '9.25 ', '2.15 ', '7.40 ', '7.40 ', '8.75 ', '8.75 ', '9.25 ', '4.45 ', '11.25 ', '1.25 ', '11.75 ', '11.25 ', '1.25 ', '3.99 ', '8.49 ', '8.49 ', '8.49 ', '8.99 ', '8.75 ', '2.15 ', '1.25 ', '8.49 ', '1.09 ', '1.09 ', '8.75 ', '2.95 ', '1.25 ', '9.25 ', '1.25 ', '2.15 ', '11.25 ', '1.25 ', '4.45 ', '8.75 ', '2.50 ', '8.90 ', '8.75 ', '8.75 ', '8.75 ', '11.25 ', '11.25 ', '10.98 ', '3.99 ', '10.98 ', '3.99 ', '1.69 ', '8.99 ', '9.25 ', '8.75 ', '8.99 ', '1.09 ', '9.25 ', '2.95 ', '8.75 ', '9.25 ', '3.99 ', '8.49 ', '8.75 ', '8.75 ', '22.50 ', '10.98 ', '3.27 ', '3.99 ', '8.99 ', '1.09 ', '11.08 ', '8.75 ', '4.45 ', '11.08 ', '3.99 ', '8.49 ', '4.30 ', '9.25 ', '8.75 ', '11.25 ', '11.25 ', '9.25 ', '8.49 ', '8.99 ', '8.49 ', '8.75 ', '2.95 ', '4.45 ', '9.25 ', '2.95 ', '9.25 ', '8.75 ', '11.25 ', '4.45 ', '16.98 ', '8.49 ', '2.39 ', '11.25 ', '3.75 ', '9.25 ', '4.45 ', '9.25 ', '9.25 ', '4.45 ', '8.75 ', '9.25 ', '8.75 ', '9.25 ', '9.25 ', '9.25 ', '11.48 ', '8.99 ', '22.50 ', '11.75 ', '11.25 ', '1.25 ', '8.75 ', '2.15 ', '1.25 ', '11.25 ', '8.75 ', '1.25 ', '11.25 ', '1.50 ', '11.25 ', '11.25 ', '9.25 ', '6.49 ', '8.90 ', '8.75 ', '4.45 ', '11.25 ', '1.25 ', '17.50 ', '9.25 ', '8.75 ', '11.75 ', '3.00 ', '8.49 ', '8.49 ', '10.98 ', '8.99 ', '3.99 ', '8.75 ', '4.45 ', '8.99 ', '1.69 ', '11.75 ', '8.75 ', '11.25 ', '4.45 ', '11.75 ', '1.25 ', '11.75 ', '2.95 ', '8.99 ', '8.99 ', '2.18 ', '17.98 ', '8.99 ', '8.49 ', '1.69 ', '11.75 ', '11.25 ', '2.95 ', '3.75 ', '9.25 ', '11.75 ', '8.75 ', '2.15 ', '1.50 ', '8.49 ', '8.49 ', '3.39 ', '8.69 ', '3.89 ', '8.75 ', '4.45 ', '8.75 ', '11.25 ', '2.15 ', '8.75 ', '8.49 ', '1.69 ', '8.49 ', '8.49 ', '1.25 ', '8.75 ', '11.75 ', '11.75 ', '8.99 ', '1.09 ', '8.75 ', '4.45 ', '8.75 ', '2.95 ', '8.75 ', '2.15 ', '3.99 ', '8.49 ', '8.99 ', '3.99 ', '8.49 ', '1.69 ', '1.09 ', '8.99 ', '1.09 ', '9.25 ', '8.75 ', '8.99 ', '2.39 ', '1.25 ', '1.25 ', '11.25 ', '11.25 ', '9.25 ', '9.25 ', '11.25 ', '1.50 ', '3.99 ', '8.49 ', '11.25 ', '9.25 ', '11.25 ', '17.50 ', '8.75 ', '8.90 ', '8.75 ', '8.75 ', '8.99 ', '2.39 ', '11.25 ', '9.25 ', '2.15 ', '11.25 ', '1.25 ', '11.75 ', '1.25 ', '11.25 ', '11.75 ', '1.25 ', '11.25 ', '11.25 ', '8.49 ', '10.98 ', '8.75 ', '1.25 ', '8.75 ', '8.49 ', '8.49 ', '1.50 ', '1.50 ', '8.75 ', '4.45 ', '11.25 ', '1.25 ', '11.75 ', '8.49 ', '2.39 ', '9.25 ', '4.45 ', '9.25 ', '8.75 ', '8.99 ', '1.69 ', '17.50 ', '2.39 ', '8.99 ', '8.99 ', '11.25 ', '4.45 ', '8.75 ', '4.45 ', '9.25 ', '6.49 ', '10.98 ', '8.49 ', '8.49 ', '1.09 ', '1.69 ', '9.25 ', '4.45 ', '8.75 ', '1.25 ', '2.95 ', '3.99 ', '8.49 ', '11.75 ', '11.75 ', '2.15 ', '11.48 ', '8.75 ', '2.15 ', '1.25 ', '11.25 ', '2.15 ', '1.25 ', '8.75 ', '8.75 ', '6.49 ', '1.69 ', '8.99 ', '8.75 ', '11.75 ', '10.98 ', '1.09 ', '8.49 ', '3.39 ', '8.75 ', '2.15 ', '1.25 ', '11.48 ', '10.98 ', '10.98 ', '8.49 ', '2.95 ', '9.25 ', '9.25 ', '11.75 ', '4.45 ', '11.48 ', '11.25 ', '8.75 ', '4.45 ', '1.69 ', '8.99 ', '8.75 ', '4.45 ', '1.50 ', '11.75 ', '2.15 ', '8.99 ', '2.39 ', '8.75 ', '2.95 ', '1.25 ', '8.75 ', '2.15 ', '1.25 ', '2.18 ', '2.18 ', '11.48 ', '8.75 ', '2.95 ', '11.75 ', '11.75 ', '1.25 ', '10.58 ', '8.99 ', '2.39 ', '11.75 ', '4.45 ', '11.25 ', '11.25 ', '17.50 ', '8.75 ', '8.75 ', '8.75 ', '22.50 ', '9.25 ', '8.75 ', '4.45 ', '11.75 ', '1.25 ', '11.25 ', '11.25 ', '2.95 ', '8.99 ', '1.69 ', '11.25 ', '4.45 ', '8.75 ', '6.49 ', '8.75 ', '4.45 ', '9.25 ', '4.45 ', '11.75 ', '11.75 ', '4.45 ', '11.89 ', '11.75 ', '11.25 ', '2.95 ', '1.50 ', '4.45 ', '8.75 ', '8.99 ', '1.09 ', '8.99 ', '1.09 ', '3.99 ', '11.48 ', '8.49 ', '9.25 ', '4.45 ', '11.48 ', '9.25 ', '2.95 ', '9.25 ', '8.49 ', '8.99 ', '8.99 ', '8.49 ', '8.75 ', '2.95 ', '4.45 ', '11.89 ', '10.58 ', '8.19 ', '1.69 ', '8.75 ', '2.15 ', '1.25 ', '17.50 ', '6.49 ', '9.25 ', '2.15 ', '8.75 ', '4.45 ', '8.75 ', '1.25 ', '11.48 ', '11.48 ', '8.99 ', '2.18 ', '8.49 ', '8.99 ', '2.39 ', '2.39 ', '2.18 ', '8.75 ', '4.45 ', '11.25 ', '9.25 ', '9.25 ', '11.25 ', '11.25 ', '4.45 ', '2.95 ', '11.75 ', '8.49 ', '8.49 ', '8.99 ', '1.69 ', '9.25 ', '11.25 ', '11.75 ', '9.25 ', '8.75 ', '11.75 ', '8.75 ', '8.75 ', '11.25 ', '11.25 ', '10.98 ', '11.25 ', '4.45 ', '10.98 ', '8.49 ', '8.99 ', '3.39 ', '3.99 ', '8.99 ', '1.09 ', '1.09 ', '2.39 ', '17.50 ', '4.45 ', '11.25 ', '11.25 ', '4.45 ', '9.25 ', '4.45 ', '8.75 ', '2.15 ', '1.25 ', '11.89 ', '2.95 ', '11.75 ', '1.25 ', '11.25 ', '4.45 ', '11.48 ', '11.48 ', '2.95 ', '9.25 ', '8.75 ', '9.25 ', '2.95 ', '11.25 ', '1.25 ', '11.75 ', '1.25 ', '8.99 ', '2.39 ', '1.25 ', '11.25 ', '1.25 ', '11.25 ', '8.49 ', '3.99 ', '35.00 ', '27.75 ', '8.75 ', '11.80 ', '8.90 ', '5.90 ', '6.49 ', '10.98 ', '17.98 ', '2.39 ', '9.25 ', '8.75 ', '2.15 ', '8.75 ', '4.45 ', '8.49 ', '1.69 ', '8.19 ', '8.69 ', '10.98 ', '3.99 ', '11.48 ', '11.48 ', '4.45 ', '8.75 ', '6.49 ', '8.75 ', '8.75 ', '9.25 ', '1.25 ', '4.45 ', '8.49 ', '1.69 ', '9.25 ', '4.45 ', '8.99 ', '1.09 ', '11.25 ', '2.95 ', '11.08 ', '11.08 ', '3.89 ', '10.98 ', '11.25 ', '8.75 ', '11.25 ', '9.25 ', '4.30 ', '8.75 ', '8.49 ', '3.99 ', '1.69 ', '8.99 ', '8.49 ', '1.69 ', '11.75 ', '11.25 ', '11.89 ', '9.25 ', '2.95 ', '9.25 ', '2.95 ', '8.75 ', '4.45 ', '4.45 ', '8.75 ', '10.98 ', '11.48 ', '8.49 ', '9.25 ', '4.45 ', '11.75 ', '11.89 ', '8.99 ', '8.49 ', '8.75 ', '9.25 ', '8.75 ', '8.75 ', '11.75 ', '11.75 ', '4.45 ', '11.25 ', '11.75 ', '2.50 ', '8.99 ', '1.69 ', '11.75 ', '2.15 ', '1.25 ', '9.25 ', '8.75 ', '8.90 ', '9.25 ', '2.95 ', '8.75 ', '11.25 ', '8.90 ', '11.25 ', '11.75 ', '11.48 ', '1.69 ', '3.39 ', '9.25 ', '2.95 ', '8.99 ', '1.69 ', '8.49 ', '10.98 ', '11.25 ', '2.95 ', '8.99 ', '1.69 ', '8.75 ', '2.15 ', '1.25 ', '8.75 ', '2.95 ', '9.25 ', '2.50 ', '11.25 ', '1.25 ', '11.75 ', '2.50 ', '11.25 ', '1.50 ', '8.75 ', '1.25 ', '2.95 ', '11.48 ', '11.48 ', '8.75 ', '8.75 ', '2.15 ', '11.75 ', '1.25 ', '9.25 ', '9.25 ', '6.49 ', '11.75 ', '8.49 ', '8.49 ', '1.09 ', '10.98 ', '8.75 ', '1.25 ', '2.15 ', '11.25 ', '1.50 ', '11.25 ', '11.25 ', '8.49 ', '8.49 ', '8.75 ', '1.50 ', '1.25 ', '1.50 ', '8.75 ', '2.50 ', '2.15 ', '7.40 ', '7.40 ', '4.00 ', '9.25 ', '9.39 ', '9.25 ', '9.25 ', '9.39 ', '11.25 ', '8.90 ', '11.25 ', '6.00 ', '11.25 ', '11.25 ', '11.25 ', '22.50 ', '11.48 ', '1.09 ', '8.49 ', '8.49 ', '17.50 ', '11.25 ', '1.50 ', '9.25 ', '8.75 ', '3.99 ', '8.49 ', '8.75 ', '8.75 ', '8.75 ', '8.75 ', '8.75 ', '11.75 ', '1.50 ', '11.25 ', '11.25 ', '2.95 ', '8.99 ', '10.98 ', '9.25 ', '8.75 ', '4.45 ', '8.49 ', '1.09 ', '2.39 ', '8.75 ', '8.75 ', '11.48 ', '8.99 ', '8.49 ', '8.49 ', '2.39 ', '10.98 ', '8.49 ', '3.99 ', '11.75 ', '4.45 ', '8.75 ', '2.15 ', '1.25 ', '10.98 ', '8.99 ', '11.25 ', '1.50 ', '8.75 ', '2.15 ', '1.25 ', '8.75 ', '9.25 ', '8.75 ', '11.25 ', '1.50 ', '8.75 ', '1.25 ', '4.45 ', '10.98 ', '8.75 ', '2.95 ', '1.25 ', '8.75 ', '2.95 ', '1.25 ', '8.49 ', '8.49 ', '2.39 ', '11.25 ', '1.25 ', '8.75 ', '8.75 ', '9.25 ', '8.75 ', '11.89 ', '1.25 ', '8.75 ', '2.15 ', '1.25 ', '8.99 ', '1.09 ', '8.75 ', '4.45 ', '26.25 ', '8.75 ', '4.45 ', '11.75 ', '2.95 ', '8.75 ', '8.75 ', '11.75 ', '8.75 ', '11.25 ', '11.25 ', '11.25 ', '4.45 ', '1.25 ', '8.49 ', '8.49 ', '8.49 ', '8.99 ', '8.99 ', '2.39 ', '2.39 ', '3.99 ', '8.75 ', '4.45 ', '2.15 ', '9.25 ', '1.25 ', '11.25 ', '11.75 ', '8.75 ', '4.45 ', '11.25 ', '2.15 ', '8.75 ', '4.45 ', '8.75 ', '8.75 ', '1.25 ', '11.25 ', '2.15 ', '8.75 ', '5.90 ', '11.75 ', '1.25 ', '9.25 ', '3.75 ', '8.75 ', '1.25 ', '4.45 ', '11.75 ', '4.45 ', '8.75 ', '23.50 ', '8.75 ', '2.95 ', '8.75 ', '8.75 ', '11.89 ', '4.45 ', '2.95 ', '1.25 ', '8.75 ', '4.45 ', '2.95 ', '1.25 ', '8.75 ', '2.15 ', '1.25 ', '11.75 ', '2.95 ', '8.99 ', '3.39 ', '9.25 ', '9.25 ', '17.50 ', '2.95 ', '11.89 ', '1.50 ', '11.25 ', '2.95 ', '9.25 ', '11.25 ', '11.25 ', '2.95 ', '8.75 ', '9.25 ', '4.30 ', '8.75 ', '8.75 ', '11.25 ', '8.75 ', '4.30 ', '8.75 ', '1.25 ', '2.15 ', '8.49 ', '8.49 ', '3.39 ', '3.39 ', '10.98 ', '10.98 ', '2.39 ', '11.25 ', '11.75 ', '11.75 ', '1.25 ', '5.90 ', '8.75 ', '11.25 ', '9.25 ', '4.45 ', '1.50 ', '3.39 ', '8.99 ', '2.39 ', '11.25 ', '2.15 ', '11.25 ', '11.75 ', '11.75 ', '4.45 ', '11.75 ', '4.45 ', '9.25 ', '8.75 ', '8.49 ', '8.99 ', '8.49 ', '8.99 ', '11.75 ', '8.75 ', '8.49 ', '3.99 ', '3.89 ', '11.08 ', '8.49 ', '8.99 ', '8.49 ', '8.49 ', '8.49 ', '11.25 ', '2.15 ', '17.50 ', '8.75 ', '2.95 ', '8.49 ', '8.49 ', '10.98 ', '1.09 ', '11.25 ', '2.15 ', '2.95 ', '1.25 ', '8.75 ', '9.25 ', '9.25 ', '9.25 ', '2.95 ', '8.75 ', '2.15 ', '1.25 ', '8.99 ', '3.99 ', '11.75 ', '2.15 ', '8.99 ', '3.39 ', '9.25 ', '8.75 ', '11.25 ', '11.25 ', '4.45 ', '8.75 ', '2.15 ', '1.25 ', '11.75 ', '4.45 ', '9.25 ', '2.95 ', '8.49 ', '8.49 ', '11.25 ', '8.75 ', '4.45 ', '11.25 ', '11.25 ', '11.25 ', '11.25 ', '4.45 ', '8.49 ', '1.69 ', '8.49 ', '3.39 ', '8.75 ', '11.25 ', '9.25 ', '8.75 ', '11.25 ', '11.25 ', '11.75 ', '11.25 ', '11.75 ', '11.25 ', '11.75 ', '21.96 ', '10.98 ', '1.69 ', '11.48 ', '8.99 ', '8.49 ', '1.69 ', '9.25 ', '2.15 ', '1.50 ', '11.25 ', '1.50 ', '8.75 ', '8.75 ', '2.95 ', '8.49 ', '1.69 ', '8.75 ', '2.95 ', '1.25 ', '11.25 ', '2.15 ', '11.08 ', '8.49 ', '8.49 ', '8.49 ', '11.75 ', '1.25 ', '11.75 ', '8.75 ', '8.75 ', '8.75 ', '4.45 ', '11.25 ', '1.50 ', '23.50 ', '11.75 ', '6.49 ', '8.75 ', '4.45 ', '6.49 ', '8.75 ', '2.50 ', '2.15 ', '8.49 ', '2.39 ', '8.75 ', '11.75 ', '4.45 ', '8.99 ', '10.98 ', '9.25 ', '2.95 ', '9.25 ', '9.25 ', '11.75 ', '8.75 ', '8.75 ', '8.75 ', '10.98 ', '11.25 ', '9.25 ', '8.75 ', '8.75 ', '2.15 ', '11.25 ', '2.15 ', '4.45 ', '11.75 ', '8.49 ', '2.39 ', '9.25 ', '1.25 ', '1.25 ', '1.25 ', '1.25 ', '8.75 ', '2.15 ', '8.49 ', '1.69 ', '11.25 ', '1.50 ', '8.75 ', '8.75 ', '8.49 ', '3.99 ', '8.99 ', '1.09 ', '11.25 ', '1.25 ', '8.49 ', '2.39 ', '8.49 ', '8.75 ', '9.25 ', '11.25 ', '4.45 ', '11.25 ', '11.89 ', '8.99 ', '8.49 ', '8.75 ', '4.45 ', '8.75 ', '11.75 ', '11.75 ', '8.90 ', '9.39 ', '2.95 ', '8.49 ', '3.99 ', '8.75 ', '2.15 ', '1.25 ', '21.96 ', '8.49 ', '1.69 ', '8.75 ', '4.45 ', '8.49 ', '8.99 ', '8.49 ', '3.99 ', '8.75 ', '8.75 ', '2.95 ', '8.75 ', '17.50 ', '9.25 ', '2.95 ', '8.75 ', '6.49 ', '4.30 ', '8.75 ', '8.75 ', '2.15 ', '1.50 ', '8.49 ', '8.49 ', '2.39 ', '9.25 ', '4.45 ', '6.49 ', '11.75 ', '4.45 ', '10.98 ', '1.69 ', '9.39 ', '9.25 ', '9.25 ', '2.95 ', '8.75 ', '2.15 ', '1.25 ', '11.25 ', '9.25 ', '8.75 ', '11.25 ', '8.75 ', '11.25 ', '2.50 ', '2.50 ', '6.00 ', '8.90 ', '5.90 ', '11.25 ', '11.25 ', '8.49 ', '10.98 ', '8.75 ', '2.15 ', '1.50 ', '9.25 ', '1.25 ', '1.50 ', '2.15 ', '1.25 ', '8.75 ', '2.95 ', '8.49 ', '3.99 ', '11.25 ', '4.30 ', '11.75 ', '2.15 ', '18.50 ', '8.49 ', '2.39 ', '8.75 ', '4.45 ', '11.75 ', '8.99 ', '3.99 ', '9.25 ', '9.25 ', '1.50 ', '8.75 ', '2.95 ', '6.49 ', '11.75 ', '8.49 ', '8.99 ', '8.75 ', '4.45 ', '6.49 ', '22.50 ', '9.25 ', '2.95 ', '8.49 ', '1.69 ', '10.98 ', '8.75 ', '4.45 ', '11.25 ', '2.95 ', '8.99 ', '8.49 ', '2.39 ', '11.75 ', '6.49 ', '11.25 ', '11.75 ', '2.95 ', '8.99 ', '1.69 ', '8.99 ', '2.18 ', '1.09 ', '8.99 ', '8.99 ', '1.09 ', '8.99 ', '8.99 ', '8.49 ', '10.98 ', '1.09 ', '11.75 ', '9.25 ', '11.25 ', '11.25 ', '2.15 ', '11.25 ', '8.75 ', '4.45 ', '2.95 ', '11.75 ', '1.50 ', '8.99 ', '10.98 ', '2.39 ', '8.75 ', '2.15 ', '9.25 ', '1.50 ', '8.75 ', '2.15 ', '3.99 ', '8.99 ', '6.49 ', '8.75 ', '8.90 ', '8.99 ', '3.99 ', '17.50 ', '11.25 ', '1.25 ', '10.98 ', '9.25 ', '4.45 ', '1.25 ', '3.00 ', '11.25 ', '4.45 ', '4.45 ', '2.95 ', '9.25 ', '11.25 ', '2.15 ', '11.25 ', '11.25 ', '4.45 ', '2.95 ', '9.25 ', '11.25 ', '1.25 ', '8.75 ', '2.95 ', '1.25 ', '8.75 ', '4.45 ', '11.48 ', '11.48 ', '8.49 ', '2.39 ', '11.25 ', '11.75 ', '2.15 ', '1.50 ', '2.15 ', '8.75 ', '11.25 ', '8.90 ', '11.25 ', '11.25 ', '1.25 ', '4.45 ', '9.25 ', '9.25 ', '8.75 ', '9.25 ', '8.75 ', '8.75 ', '9.25 ', '8.75 ', '11.75 ', '11.75 ', '8.75 ', '8.75 ', '8.90 ', '2.95 ', '10.98 ', '8.49 ', '8.49 ', '10.98 ', '8.99 ', '8.99 ', '11.75 ', '17.50 ', '11.75 ', '3.99 ', '8.49 ', '10.98 ', '1.69 ', '17.50 ', '8.99 ', '2.39 ', '8.99 ', '2.39 ', '1.25 ', '8.75 ', '2.95 ', '11.75 ', '11.25 ', '17.50 ', '8.49 ', '8.49 ', '2.39 ', '11.25 ', '1.50 ', '8.75 ', '3.00 ', '1.25 ', '8.75 ', '4.45 ', '11.75 ', '11.75 ', '4.45 ', '21.96 ', '8.75 ', '4.45 ', '8.75 ', '11.25 ', '9.25 ', '8.99 ', '2.39 ', '9.25 ', '8.75 ', '10.98 ', '8.49 ', '3.99 ', '3.39 ', '11.75 ', '1.50 ', '4.45 ', '9.25 ', '8.75 ', '1.25 ', '11.75 ', '8.75 ', '1.50 ', '8.75 ', '8.75 ', '2.15 ', '1.50 ', '8.75 ', '2.95 ', '8.75 ', '8.75 ', '17.50 ', '8.75 ', '6.49 ', '4.45 ', '11.25 ', '11.25 ', '4.30 ', '8.75 ', '11.25 ', '4.45 ', '8.99 ', '2.39 ', '9.25 ', '9.25 ', '9.25 ', '4.45 ', '11.75 ', '11.25 ', '2.95 ', '2.15 ', '11.25 ', '11.25 ', '8.75 ', '2.15 ', '1.50 ', '9.25 ', '4.45 ', '10.98 ', '8.99 ', '2.18 ', '8.75 ', '4.45 ', '1.25 ', '8.99 ', '2.39 ', '4.45 ', '8.75 ', '10.98 ', '11.75 ', '1.50 ', '10.98 ', '8.99 ', '8.49 ', '3.99 ', '8.99 ', '8.49 ', '3.99 ', '8.49 ', '8.49 ', '8.99 ', '11.25 ', '11.25 ', '10.98 ', '10.98 ', '10.98 ', '2.39 ', '3.39 ', '8.75 ', '1.25 ', '2.95 ', '11.75 ', '1.50 ', '10.98 ', '1.69 ', '4.45 ', '8.75 ', '8.75 ', '8.75 ', '8.75 ', '4.45 ', '9.25 ', '8.75 ', '11.25 ', '8.75 ', '3.99 ', '8.99 ', '8.49 ', '11.25 ', '11.25 ', '8.75 ', '4.45 ', '8.75 ', '4.45 ', '1.25 ', '8.75 ', '8.75 ', '1.50 ', '2.15 ', '11.75 ', '11.75 ', '11.75 ', '11.75 ', '11.75 ', '1.50 ', '8.75 ', '9.25 ', '1.25 ', '8.75 ', '2.15 ', '8.99 ', '1.09 ', '4.45 ', '11.25 ', '11.75 ', '2.15 ', '8.75 ', '8.75 ', '1.25 ', '9.25 ', '2.15 ', '11.75 ', '11.25 ', '8.75 ', '11.25 ', '4.45 ', '8.49 ', '1.69 ', '8.75 ', '8.75 ', '8.99 ', '8.49 ', '9.25 ', '11.25 ', '2.95 ', '4.45 ', '11.75 ', '6.49 ', '11.48 ', '8.99 ', '4.36 ', '11.48 ', '8.99 ', '8.49 ', '11.48 ', '8.75 ', '2.15 ', '1.50 ', '8.99 ', '1.69 ', '11.25 ', '1.25 ', '9.25 ', '9.25 ', '8.75 ', '9.25 ', '8.90 ', '2.15 ', '9.25 ', '10.98 ', '8.49 ', '8.75 ', '9.25 ', '4.30 ', '9.25 ', '8.75 ', '8.75 ', '2.15 ', '1.25 ', '8.75 ', '1.25 ', '8.75 ', '5.90 ', '9.25 ', '8.75 ', '9.25 ', '4.45 ', '9.25 ', '11.75 ', '2.50 ', '9.25 ', '2.15 ', '9.25 ', '1.50 ', '1.25 ', '11.25 ', '2.95 ', '8.75 ', '8.75 ', '8.75 ', '10.98 ', '8.75 ', '8.75 ', '8.75 ', '2.15 ', '1.25 ', '10.98 ', '8.75 ', '2.15 ', '1.50 ', '8.75 ', '2.95 ', '1.25 ', '9.25 ', '9.25 ', '8.49 ', '2.39 ', '8.75 ', '4.45 ', '9.25 ', '8.75 ', '8.75 ', '8.75 ', '9.25 ', '8.75 ', '9.25 ', '8.75 ', '8.75 ', '8.75 ', '8.75 ', '9.25 ', '8.75 ', '9.25 ', '8.75 ', '9.25 ', '8.75 ', '8.75 ', '8.75 ', '9.25 ', '8.75 ', '9.25 ', '8.75 ', '8.99 ', '8.99 ', '8.75 ', '2.95 ', '1.25 ', '11.75 ', '1.50 ', '11.25 ', '11.25 ', '8.75 ', '1.50 ', '2.15 ', '16.98 ', '11.75 ', '1.50 ', '8.75 ', '4.30 ', '1.50 ', '8.75 ', '2.95 ', '1.25 ', '1.25 ', '9.25 ', '4.45 ', '11.25 ', '8.75 ', '4.45 ', '8.75 ', '2.15 ', '1.25 ', '10.98 ', '1.69 ', '8.75 ', '1.25 ', '8.75 ', '1.25 ', '11.25 ', '8.75 ', '8.75 ', '8.49 ', '1.69 ', '9.25 ', '11.75 ', '8.49 ', '2.39 ', '9.25 ', '2.95 ', '6.49 ', '8.75 ', '8.75 ', '9.25 ', '8.75 ', '6.78 ', '17.98 ', '3.39 ', '11.75 ', '11.25 ', '8.75 ', '4.45 ', '11.75 ', '9.25 ', '8.75 ', '6.49 ', '8.99 ', '2.39 ', '8.75 ', '11.25 ', '11.75 ', '4.45 ', '8.75 ', '2.15 ', '9.25 ', '9.25 ', '9.25 ', '11.89 ', '11.75 ', '11.25 ', '9.25 ', '9.25 ', '8.75 ', '8.75 ', '8.49 ', '1.69 ', '1.09 ', '11.25 ', '1.50 ', '11.25 ', '11.25 ', '11.75 ', '1.50 ', '8.49 ', '8.99 ', '22.50 ', '8.75 ', '4.30 ', '8.75 ', '11.25 ', '2.15 ', '11.25 ', '2.95 ', '4.45 ', '11.25 ', '8.49 ', '3.39 ', '2.39 ', '11.75 ', '2.15 ', '11.75 ', '8.99 ', '2.39 ', '8.75 ', '11.75 ', '11.89 ', '1.25 ', '7.50 ', '11.89 ', '1.09 ', '8.49 ', '2.39 ', '8.75 ', '8.75 ', '8.75 ', '8.75 ', '9.25 ', '11.25 ', '8.75 ', '8.90 ', '9.25 ', '8.75 ', '8.75 ', '11.75 ', '3.00 ', '1.50 ', '11.25 ', '11.75 ', '8.99 ', '10.98 ', '4.45 ', '8.75 ', '2.15 ', '9.25 ', '11.25 ', '4.45 ', '1.69 ', '10.98 ', '9.25 ', '11.75 ', '9.25 ', '4.45 ', '10.98 ', '3.99 ', '8.49 ', '1.25 ', '9.25 ', '4.45 ', '10.98 ', '8.75 ', '8.75 ', '11.75 ', '11.25 ', '8.49 ', '11.48 ', '4.45 ', '1.25 ', '11.25 ', '8.99 ', '1.09 ', '2.39 ', '11.25 ', '2.15 ', '8.75 ', '4.45 ', '8.49 ', '1.69 ', '10.98 ', '1.69 ', '9.25 ', '4.45 ', '11.25 ', '8.75 ', '11.25 ', '11.75 ', '11.25 ', '22.50 ', '8.49 ', '2.39 ', '2.50 ', '8.75 ', '8.75 ', '9.25 ', '9.25 ', '11.25 ', '8.99 ', '1.09 ', '8.99 ', '1.69 ', '11.75 ', '1.25 ', '21.96 ', '8.75 ', '2.15 ', '1.25 ', '8.75 ', '11.25 ', '9.25 ', '11.25 ', '8.75 ', '8.75 ', '11.25 ', '2.15 ', '8.99 ', '1.09 ', '1.69 ', '8.75 ', '2.15 ', '1.25 ', '8.49 ', '1.09 ', '1.09 ', '1.69 ', '11.48 ', '8.49 ', '8.49 ', '4.78 ', '9.25 ', '1.25 ', '1.25 ', '1.25 ', '11.25 ', '11.25 ', '11.75 ', '4.45 ', '11.25 ', '4.45 ', '8.99 ', '1.09 ', '11.25 ', '2.15 ', '11.25 ', '9.25 ', '11.75 ', '11.25 ', '11.25 ', '9.25 ', '2.95 ', '11.25 ', '4.45 ', '8.75 ', '2.95 ', '2.95 ', '11.25 ', '1.50 ', '10.98 ', '16.98 ', '18.50 ', '10.98 ', '3.99 ', '1.09 ', '9.25 ', '9.25 ', '8.75 ', '4.45 ', '17.50 ', '8.75 ', '4.45 ', '8.75 ', '1.25 ', '4.45 ', '9.25 ', '8.75 ', '8.75 ', '17.50 ', '4.45 ', '9.39 ', '1.25 ', '2.95 ', '11.25 ', '8.75 ', '8.75 ', '11.25 ', '2.15 ', '8.90 ', '11.25 ', '11.89 ', '10.98 ', '11.25 ', '4.45 ', '11.25 ', '11.25 ', '8.49 ', '10.98 ', '8.49 ', '3.39 ', '9.25 ', '8.75 ', '2.95 ', '3.00 ', '9.39 ', '11.75 ', '2.95 ', '1.50 ', '11.25 ', '11.75 ', '8.75 ', '2.15 ', '1.50 ', '8.49 ', '3.39 ', '11.75 ', '1.25 ', '17.50 ', '11.25 ', '1.25 ', '8.75 ', '2.95 ', '1.25 ', '11.25 ', '11.75 ', '13.35 ', '11.25 ', '11.75 ', '11.25 ', '11.25 ', '4.45 ', '11.25 ', '8.49 ', '3.39 ', '9.25 ', '2.95 ', '4.78 ', '2.39 ', '3.99 ', '8.99 ', '8.99 ', '11.25 ', '11.25 ', '8.75 ', '11.25 ', '2.95 ', '4.45 ', '9.25 ', '8.75 ', '4.45 ', '8.49 ', '8.49 ', '10.98 ', '10.98 ', '3.99 ', '11.75 ', '8.75 ', '11.75 ', '4.45 ', '1.50 ', '1.25 ', '8.49 ', '8.49 ', '8.75 ', '8.75 ', '8.75 ', '9.25 ', '8.75 ', '2.95 ', '1.25 ', '11.25 ', '1.50 ', '11.25 ', '4.45 ', '9.25 ', '8.75 ', '8.75 ', '9.25 ', '8.75 ', '4.45 ', '1.50 ', '8.75 ', '8.75 ', '8.49 ', '1.69 ', '8.75 ', '2.15 ', '9.25 ', '2.15 ', '1.50 ', '11.25 ', '11.75 ', '2.15 ', '6.49 ', '9.25 ', '9.25 ', '11.25 ', '11.25 ', '11.75 ', '11.75 ', '11.75 ', '11.25 ', '8.75 ', '2.15 ', '1.25 ', '11.75 ', '9.25 ', '11.25 ', '8.75 ', '5.90 ', '8.75 ', '4.45 ', '9.25 ', '9.25 ', '4.45 ', '11.25 ', '4.45 ', '11.25 ', '8.75 ', '2.15 ', '11.89 ', '11.25 ', '8.75 ', '2.95 ', '1.50 ', '8.75 ', '4.30 ', '8.75 ', '11.25 ', '11.75 ', '11.75 ', '2.15 ', '11.25 ', '8.99 ', '1.09 ', '8.49 ', '8.49 ', '8.49 ', '3.39 ', '8.99 ', '10.98 ', '3.99 ', '11.75 ', '2.15 ', '8.75 ', '4.45 ', '2.50 ', '11.48 ', '1.09 ', '8.49 ', '8.49 ', '16.98 ', '3.99 ', '10.98 ', '1.09 ', '8.75 ', '2.95 ', '8.75 ', '8.75 ', '2.95 ', '9.25 ', '11.25 ', '2.15 ', '9.25 ', '4.45 ', '4.45 ', '9.25 ', '11.75 ', '11.75 ', '2.15 ', '9.25 ', '8.75 ', '11.25 ', '6.49 ', '8.75 ', '11.25 ', '2.95 ', '10.98 ', '3.99 ', '1.50 ', '9.25 ', '2.15 ', '8.75 ', '11.25 ', '11.89 ', '4.45 ', '1.50 ', '1.25 ', '8.75 ', '8.75 ', '4.45 ', '11.25 ', '11.75 ', '8.49 ', '1.09 ', '1.09 ', '1.69 ', '8.99 ', '3.39 ', '8.99 ', '1.69 ', '8.49 ', '8.99 ', '3.27 ', '8.99 ', '8.99 ', '1.09 ', '10.98 ', '1.69 ', '3.99 ', '8.49 ', '1.09 ', '8.75 ', '8.75 ', '11.75 ', '8.75 ', '9.25 ', '8.75 ', '3.39 ', '8.99 ', '8.99 ', '2.39 ', '9.25 ', '8.75 ', '9.25 ', '9.25 ', '8.99 ', '3.99 ', '2.39 ', '8.49 ', '1.09 ', '8.49 ', '8.99 ', '3.39 ', '11.25 ', '1.25 ', '8.99 ', '3.99 ', '8.75 ', '8.90 ', '6.49 ', '8.75 ', '9.25 ', '11.25 ', '11.25 ', '11.25 ', '1.25 ', '8.75 ', '9.25 ', '4.45 ', '1.25 ', '8.75 ', '1.25 ', '2.15 ', '17.98 ', '8.99 ', '8.75 ', '2.95 ', '1.25 ', '11.75 ', '1.50 ', '1.50 ', '8.75 ', '8.75 ', '11.08 ', '8.99 ', '1.69 ', '8.99 ', '1.69 ', '10.98 ', '3.99 ', '3.39 ', '11.75 ', '2.15 ', '11.75 ', '2.95 ', '8.75 ', '8.75 ', '11.75 ', '11.25 ', '11.75 ', '11.25 ', '4.45 ', '11.25 ', '1.25 ', '2.18 ', '2.18 ', '2.39 ', '8.49 ', '8.99 ', '2.39 ', '11.25 ', '8.75 ', '11.75 ', '11.75 ', '11.25 ', '4.45 ', '2.15 ', '8.19 ', '10.58 ', '4.45 ', '9.25 ', '1.09 ', '8.99 ', '11.25 ', '1.50 ', '8.99 ', '3.99 ', '4.45 ', '11.75 ', '2.15 ', '11.25 ', '8.75 ', '4.45 ', '8.75 ', '9.25 ', '6.45 ', '8.75 ', '11.25 ', '11.25 ', '8.75 ', '11.75 ', '21.96 ', '8.99 ', '5.07 ', '8.49 ', '9.25 ', '11.25 ', '4.45 ', '3.39 ', '8.49 ', '8.99 ', '8.49 ', '17.50 ', '22.96 ', '8.75 ', '11.25 ', '11.89 ', '11.25 ', '8.49 ', '1.69 ', '1.09 ', '8.99 ', '8.99 ', '9.25 ', '8.75 ', '9.25 ', '2.95 ', '8.49 ', '3.99 ', '8.99 ', '8.49 ', '7.17 ', '8.49 ', '8.99 ', '17.50 ', '9.25 ', '9.25 ', '11.25 ', '1.25 ', '8.99 ', '1.09 ', '8.75 ', '4.45 ', '11.25 ', '2.15 ', '11.75 ', '11.25 ', '11.25 ', '8.75 ', '8.75 ', '4.45 ', '1.25 ', '11.75 ', '11.75 ', '2.50 ', '8.49 ', '8.99 ', '2.18 ', '11.25 ', '4.45 ', '11.25 ', '11.75 ', '8.49 ', '8.99 ', '1.69 ', '1.09 ', '8.99 ', '8.99 ', '11.25 ', '6.49 ', '11.25 ', '8.75 ', '4.45 ', '8.99 ', '1.69 ', '11.48 ', '11.75 ', '2.50 ', '8.49 ', '1.09 ', '1.09 ', '1.69 ', '8.49 ', '2.39 ', '11.75 ', '1.25 ', '8.49 ', '1.69 ', '8.49 ', '1.69 ', '11.75 ', '4.45 ', '8.75 ', '8.75 ', '4.45 ', '8.75 ', '11.25 ', '11.25 ', '8.75 ', '7.98 ', '8.49 ', '1.09 ', '8.49 ', '3.99 ', '8.49 ', '3.99 ', '8.99 ', '3.99 ', '11.25 ', '4.45 ', '8.49 ', '2.39 ', '8.49 ', '2.39 ', '3.99 ', '8.49 ', '1.25 ', '11.25 ', '4.45 ', '9.25 ', '4.45 ', '1.09 ', '8.99 ', '3.99 ', '11.25 ', '8.90 ', '9.25 ', '11.25 ', '8.75 ', '11.25 ', '11.25 ', '11.25 ', '11.25 ', '11.25 ', '8.99 ', '8.49 ', '8.75 ', '8.75 ', '4.45 ', '16.98 ', '11.75 ', '11.25 ', '9.25 ', '4.45 ', '9.25 ', '2.95 ', '8.49 ', '1.69 ', '3.75 ', '4.45 ', '9.25 ', '1.50 ', '11.25 ', '11.48 ', '11.25 ', '2.15 ', '8.75 ', '9.39 ', '8.49 ', '3.99 ', '8.19 ', '2.29 ', '11.48 ', '1.69 ', '11.48 ', '3.99 ', '8.49 ', '1.69 ', '9.25 ', '2.95 ', '8.49 ', '1.69 ', '11.25 ', '4.45 ', '9.39 ', '9.25 ', '8.75 ', '8.75 ', '4.45 ', '11.89 ', '4.45 ', '4.45 ', '8.75 ', '8.75 ', '8.75 ', '2.15 ', '8.75 ', '3.75 ', '9.25 ', '11.25 ', '4.45 ', '6.49 ', '16.98 ', '18.50 ', '2.50 ', '2.95 ', '3.99 ', '8.49 ', '8.19 ', '11.08 ', '6.49 ', '11.75 ', '2.39 ', '8.99 ', '1.09 ', '11.25 ', '4.45 ', '11.25 ', '8.99 ', '1.69 ', '21.96 ', '2.18 ', '8.99 ', '8.99 ', '2.39 ', '8.69 ', '1.69 ', '8.90 ', '2.50 ', '8.75 ', '8.99 ', '1.09 ', '8.49 ', '8.49 ', '8.75 ', '4.45 ', '17.50 ', '8.75 ', '9.25 ', '8.49 ', '2.39 ', '8.75 ', '4.45 ', '11.25 ', '11.25 ', '11.75 ', '8.75 ', '8.49 ', '8.49 ', '8.49 ', '8.99 ', '8.75 ', '4.45 ', '11.48 ', '8.75 ', '1.25 ', '2.15 ', '9.25 ', '4.45 ', '11.75 ', '2.15 ', '11.25 ', '8.99 ', '2.39 ', '8.69 ', '8.69 ', '11.75 ', '2.95 ', '11.75 ', '1.50 ', '9.25 ', '4.45 ', '1.50 ', '11.48 ', '8.99 ', '2.39 ', '11.25 ', '11.89 ', '2.15 ', '1.25 ', '11.75 ', '4.45 ', '8.75 ', '8.75 ', '11.25 ', '4.45 ', '11.25 ', '2.15 ', '4.45 ', '8.49 ', '1.09 ', '3.99 ', '11.25 ', '11.25 ', '8.49 ', '2.39 ', '8.99 ', '2.39 ', '11.25 ', '2.15 ', '8.75 ', '2.95 ', '1.25 ', '8.75 ', '11.25 ', '17.50 ', '11.75 ', '11.75 ', '11.25 ', '11.25 ', '4.45 ', '2.50 ', '8.75 ', '8.99 ', '8.99 ', '1.69 ', '8.99 ', '1.69 ', '11.25 ', '1.25 ', '11.08 ', '8.69 ', '8.99 ', '1.09 ', '11.25 ', '11.25 ', '2.95 ', '1.25 ', '8.75 ', '1.25 ', '8.75 ', '8.75 ', '2.15 ', '1.25 ', '8.49 ', '3.99 ', '8.49 ', '2.39 ', '8.49 ', '7.17 ', '8.75 ', '4.45 ', '11.48 ', '8.75 ', '8.75 ', '11.48 ', '8.75 ', '9.25 ', '8.49 ', '3.99 ', '1.50 ', '11.25 ', '11.25 ', '8.75 ', '8.75 ', '4.45 ', '9.25 ', '4.45 ', '8.75 ', '8.75 ', '4.30 ', '2.95 ', '8.75 ', '4.50 ', '9.25 ', '11.25 ', '4.45 ', '11.25 ', '11.25 ', '8.75 ', '9.25 ', '8.75 ', '2.15 ', '1.25 ', '8.75 ', '2.15 ', '1.25 ', '8.99 ', '8.49 ', '8.75 ', '8.75 ', '1.25 ', '11.75 ', '4.50 ', '8.75 ', '8.75 ', '3.99 ', '3.39 ', '8.49 ', '2.39 ', '8.99 ', '1.50 ', '11.25 ', '11.25 ', '8.75 ', '8.75 ', '2.15 ', '8.75 ', '2.15 ', '1.25 ', '21.96 ', '8.49 ', '1.69 ', '26.07 ', '11.75 ', '1.50 ', '8.99 ', '8.99 ', '11.48 ', '9.25 ', '9.25 ', '8.75 ', '8.75 ', '8.75 ', '9.25 ', '8.75 ', '8.75 ', '2.15 ', '1.25 ', '11.89 ', '8.75 ', '11.75 ', '4.45 ', '18.50 ', '9.25 ', '9.39 ', '8.49 ', '2.39 ', '8.49 ', '1.69 ', '1.09 ', '8.99 ', '8.49 ', '2.18 ', '11.25 ', '1.25 ', '8.49 ', '3.39 ', '8.49 ', '3.99 ', '11.25 ', '8.75 ', '8.49 ', '1.69 ', '16.98 ', '9.25 ', '9.25 ', '11.75 ', '1.25 ', '11.25 ', '8.75 ', '8.49 ', '8.49 ', '8.75 ', '1.25 ', '1.25 ', '1.25 ', '11.25 ', '12.98 ', '11.75 ', '11.75 ', '4.45 ', '11.25 ', '11.75 ', '10.98 ', '8.49 ', '8.49 ', '2.39 ', '9.25 ', '11.25 ', '8.75 ', '2.95 ', '1.50 ', '11.25 ', '2.95 ', '9.25 ', '2.95 ', '9.25 ', '8.75 ', '11.25 ', '8.75 ', '8.75 ', '4.45 ', '11.25 ', '1.25 ', '8.75 ', '2.95 ', '2.50 ', '9.25 ', '9.25 ', '9.25 ', '6.49 ', '17.50 ', '8.49 ', '1.69 ', '8.49 ', '3.99 ', '8.75 ', '2.95 ', '2.95 ', '8.49 ', '8.99 ', '8.99 ', '1.09 ', '8.75 ', '4.45 ', '1.25 ', '11.25 ', '11.75 ', '11.25 ', '9.25 ', '11.25 ', '1.50 ', '11.25 ', '2.15 ', '10.98 ', '8.75 ', '11.75 ', '2.95 ', '11.25 ', '11.25 ', '9.25 ', '8.75 ', '9.25 ', '8.75 ', '8.75 ', '8.75 ', '1.25 ', '11.25 ', '1.50 ', '2.15 ', '8.75 ', '8.75 ', '11.25 ', '8.75 ', '8.75 ', '11.25 ', '4.45 ', '8.49 ', '8.49 ', '8.49 ', '8.49 ', '8.99 ', '1.69 ', '2.39 ', '1.09 ', '1.09 ', '11.25 ', '2.95 ', '35.25 ', '8.75 ', '2.95 ', '1.25 ', '11.25 ', '2.15 ', '9.25 ', '4.45 ', '8.75 ', '8.75 ', '8.75 ', '4.45 ', '1.25 ', '11.89 ', '8.75 ', '2.15 ', '1.25 ', '8.49 ', '1.09 ', '1.09 ', '1.69 ', '8.69 ', '8.69 ', '9.25 ', '2.95 ', '10.98 ', '2.39 ', '22.50 ', '21.96 ', '10.98 ', '8.49 ', '1.69 ', '11.75 ', '2.95 ', '8.75 ', '11.25 ', '8.75 ', '9.25 ', '8.75 ', '8.19 ', '10.58 ', '8.75 ', '2.95 ', '1.50 ', '2.50 ', '9.25 ', '4.45 ', '9.25 ', '11.25 ', '8.69 ', '8.69 ', '3.89 ', '8.69 ', '1.69 ', '4.45 ', '9.25 ', '11.25 ', '4.45 ', '2.15 ', '8.19 ', '8.69 ', '4.45 ', '11.25 ', '1.25 ', '11.25 ', '8.75 ', '11.89 ', '11.75 ', '11.75 ', '9.25 ', '8.75 ', '2.15 ', '1.50 ', '11.75 ', '4.45 ', '3.99 ', '8.99 ', '10.98 ', '2.39 ', '1.25 ', '2.95 ', '8.75 ', '2.95 ', '9.25 ', '9.25 ', '9.25 ', '8.75 ', '2.15 ', '9.25 ', '9.25 ', '3.39 ', '8.49 ', '8.49 ', '2.39 ', '10.98 ', '1.09 ', '1.09 ', '8.49 ', '11.25 ', '1.25 ', '8.99 ', '1.09 ', '8.75 ', '2.15 ', '1.50 ', '3.99 ', '8.49 ', '8.75 ', '2.15 ', '1.50 ', '8.49 ', '10.98 ', '2.18 ', '8.75 ', '2.15 ', '1.50 ', '4.45 ', '9.25 ', '44.25 ', '10.50 ', '6.49 ', '33.75 ', '35.00 ', '27.75 ', '3.00 ', '11.25 ', '11.75 ', '10.98 ', '2.39 ', '2.50 ', '8.75 ', '4.45 ', '16.98 ', '8.75 ', '6.49 ', '16.98 ', '17.98 ', '16.98 ', '16.98 ', '8.99 ', '8.99 ', '8.49 ', '9.25 ', '8.75 ', '2.95 ', '11.48 ', '2.39 ', '8.99 ', '2.39 ', '11.25 ', '4.45 ', '8.75 ', '9.25 ', '6.49 ', '26.25 ', '8.75 ', '26.25 ', '8.75 ', '8.75 ', '11.25 ', '11.25 ', '2.15 ', '1.25 ', '11.75 ', '8.75 ', '2.15 ', '1.50 ', '11.25 ', '2.15 ', '8.99 ', '2.39 ', '11.25 ', '11.25 ', '2.15 ', '11.25 ', '11.25 ', '8.75 ', '4.78 ', '21.96 ', '8.49 ', '2.39 ', '9.25 ', '2.95 ', '16.98 ', '8.19 ', '3.89 ', '8.99 ', '1.09 ', '8.99 ', '3.39 ', '9.25 ', '4.45 ', '10.98 ', '10.98 ', '17.50 ', '11.25 ', '1.25 ', '8.75 ', '11.75 ', '4.45 ', '11.25 ', '11.25 ', '8.99 ', '1.09 ', '10.98 ', '8.49 ', '1.69 ', '11.25 ', '9.25 ', '16.98 ', '8.75 ', '4.45 ', '11.25 ', '6.49 ', '11.75 ', '9.25 ', '9.25 ', '8.75 ', '4.45 ', '2.50 ', '8.75 ', '11.75 ', '8.75 ', '9.25 ', '11.75 ', '9.25 ', '8.75 ', '9.25 ', '8.75 ', '11.25 ', '11.75 ', '9.25 ', '8.75 ', '11.75 ', '8.49 ', '1.09 ', '1.09 ', '8.49 ', '1.09 ', '1.69 ', '11.25 ', '1.25 ', '8.75 ', '2.15 ', '1.50 ', '8.49 ', '1.69 ', '1.25 ', '8.75 ', '2.95 ', '8.49 ', '3.99 ', '8.49 ', '8.49 ', '8.75 ', '11.25 ', '2.15 ', '1.50 ', '11.75 ', '8.99 ', '1.09 ', '10.98 ', '10.98 ', '11.25 ', '1.25 ', '8.75 ', '4.45 ', '4.45 ', '1.25 ', '11.89 ', '8.99 ', '8.99 ', '11.25 ', '4.45 ', '23.50 ', '8.49 ', '3.99 ', '9.25 ', '4.45 ', '4.45 ', '9.25 ', '8.75 ', '4.45 ', '8.75 ', '8.75 ', '11.75 ', '6.49 ', '17.50 ', '4.45 ', '8.75 ', '2.95 ', '1.50 ', '8.75 ', '8.75 ', '8.75 ', '4.45 ', '11.25 ', '11.25 ', '11.75 ', '11.25 ', '2.95 ', '11.25 ', '4.45 ', '3.00 ', '1.25 ', '2.95 ', '9.25 ', '8.99 ', '2.39 ', '6.49 ', '8.75 ', '8.90 ', '11.48 ', '1.09 ', '10.98 ', '9.25 ', '9.25 ', '11.25 ', '8.75 ', '11.75 ', '11.25 ', '11.25 ', '1.25 ', '9.25 ', '4.45 ', '9.25 ', '6.49 ', '11.75 ', '11.75 ', '8.99 ', '2.39 ', '8.49 ', '8.49 ', '9.25 ', '9.25 ', '1.25 ', '8.75 ', '2.95 ', '11.75 ', '2.15 ', '8.49 ', '8.49 ', '8.69 ', '16.38 ', '8.19 ', '3.89 ', '2.29 ', '11.75 ', '8.75 ', '8.75 ', '8.75 ', '4.45 ', '8.49 ', '8.49 ', '9.25 ', '8.75 ', '6.49 ', '2.95 ', '11.25 ', '11.25 ', '2.15 ', '9.25 ', '11.75 ', '21.96 ', '8.49 ', '3.39 ', '1.69 ', '8.49 ', '8.75 ', '4.45 ', '8.49 ', '3.99 ', '11.25 ', '8.75 ', '11.25 ', '2.15 ', '11.75 ', '4.45 ', '11.25 ', '9.25 ', '8.75 ', '18.50 ', '1.50 ', '8.75 ', '2.15 ', '11.48 ', '2.18 ', '3.99 ', '11.25 ', '1.50 ', '8.99 ', '2.39 ', '11.75 ', '1.50 ', '11.25 ', '6.49 ', '4.45 ', '11.25 ', '8.49 ', '3.99 ', '2.50 ', '8.75 ', '9.25 ', '3.99 ', '8.99 ', '8.75 ', '6.49 ', '13.52 ', '16.98 ', '16.98 ', '17.98 ', '16.98 ', '8.75 ', '8.75 ', '11.25 ', '11.25 ', '8.49 ', '1.09 ', '1.69 ', '1.25 ', '9.25 ', '2.95 ', '8.69 ', '8.19 ', '8.49 ', '2.39 ', '8.49 ', '2.39 ', '10.98 ', '8.99 ', '8.99 ', '1.69 ', '8.49 ', '8.75 ', '8.75 ', '11.25 ', '4.45 ', '4.45 ', '17.50 ', '8.75 ', '4.45 ', '8.75 ', '2.15 ', '1.50 ', '1.50 ', '8.99 ', '1.09 ', '8.75 ', '4.45 ', '8.75 ', '8.75 ', '11.25 ', '4.30 ', '8.49 ', '1.69 ', '1.09 ', '1.09 ', '8.75 ', '2.15 ', '1.50 ', '8.99 ', '8.49 ', '3.99 ', '8.75 ', '2.15 ', '1.25 ', '9.25 ', '2.95 ', '11.25 ', '4.45 ', '9.25 ', '2.95 ', '3.99 ', '8.99 ', '8.49 ', '8.75 ', '8.75 ', '11.25 ', '9.25 ', '8.75 ', '4.45 ', '11.25 ', '1.25 ', '9.25 ', '11.25 ', '4.45 ', '2.95 ', '10.98 ', '8.75 ', '8.75 ', '18.50 ', '9.25 ', '9.25 ', '5.00 ', '8.75 ', '2.95 ', '16.98 ', '11.25 ', '2.95 ', '8.75 ', '2.15 ', '1.50 ', '8.49 ', '2.39 ', '9.25 ', '2.15 ', '1.25 ', '8.19 ', '8.69 ', '8.19 ', '8.19 ', '8.75 ', '2.95 ', '1.25 ', '9.25 ', '2.95 ', '11.25 ', '8.75 ', '11.25 ', '11.25 ', '8.99 ', '1.09 ', '9.25 ', '9.25 ', '4.45 ', '8.49 ', '3.99 ', '2.39 ', '1.09 ', '8.99 ', '8.49 ', '8.75 ', '8.75 ', '11.25 ', '11.75 ', '4.45 ', '2.50 ', '8.75 ', '8.49 ', '3.39 ', '8.75 ', '9.25 ', '4.45 ', '1.25 ', '11.25 ', '2.15 ', '4.45 ', '2.50 ', '8.99 ', '3.99 ', '8.75 ', '2.15 ', '11.75 ', '11.75 ', '1.25 ', '8.75 ', '9.39 ', '11.25 ', '9.25 ', '9.25 ', '2.95 ', '9.25 ', '4.45 ', '1.25 ', '9.25 ', '8.75 ', '11.75 ', '1.50 ', '8.75 ', '4.45 ', '8.99 ', '1.09 ', '9.25 ', '2.95 ', '8.99 ', '1.69 ', '8.69 ', '1.69 ', '11.25 ', '4.45 ', '8.75 ', '8.75 ', '4.45 ', '11.25 ', '8.75 ', '2.95 ', '1.50 ', '8.19 ', '8.69 ', '1.09 ', '1.69 ', '8.49 ', '8.75 ', '2.95 ', '1.25 ', '8.49 ', '3.99 ', '10.98 ', '3.39 ', '11.25 ', '11.25 ', '2.15 ', '18.50 ', '8.49 ', '8.49 ', '11.25 ', '1.50 ', '8.49 ', '2.39 ', '8.99 ', '2.39 ', '11.75 ', '4.45 ', '17.50 ', '9.25 ', '9.25 ', '8.75 ', '4.45 ', '3.75 ', '8.75 ', '4.45 ', '11.75 ', '2.95 ', '1.25 ', '4.45 ', '8.75 ', '1.25 ', '1.50 ', '9.25 ', '11.25 ', '11.25 ', '11.25 ', '11.25 ', '9.25 ', '11.25 ', '4.45 ', '8.75 ', '9.25 ', '8.75 ', '8.75 ', '4.45 ', '8.75 ', '1.25 ', '2.15 ', '8.75 ', '8.75 ', '4.30 ', '8.75 ', '1.25 ', '2.95 ', '9.25 ', '2.95 ', '4.45 ', '11.25 ', '11.25 ', '9.25 ', '9.25 ', '4.50 ', '11.75 ', '1.25 ', '11.75 ', '11.75 ', '1.25 ', '1.25 ', '9.25 ', '4.45 ', '11.25 ', '11.75 ', '17.50 ', '2.15 ', '1.25 ', '11.25 ', '15.00 ', '11.25 ', '4.45 ', '4.45 ', '2.95 ', '11.25 ', '2.15 ', '1.25 ', '1.50 ', '8.75 ', '11.25 ', '2.95 ', '11.25 ', '1.25 ', '2.15 ', '11.25 ', '9.25 ', '6.49 ', '1.25 ', '8.75 ', '2.15 ', '8.75 ', '6.49 ', '11.25 ', '1.50 ', '8.75 ', '4.45 ', '8.75 ', '4.45 ', '9.25 ', '9.25 ', '1.25 ', '1.25 ', '8.75 ', '4.50 ', '11.25 ', '1.25 ', '1.50 ', '9.25 ', '2.15 ', '11.25 ', '4.45 ', '11.25 ', '4.45 ', '8.75 ', '4.45 ', '9.25 ', '4.45 ', '1.25 ', '11.25 ', '4.45 ', '8.75 ', '4.45 ', '8.75 ', '2.15 ', '8.75 ', '4.45 ', '8.75 ', '11.75 ', '1.50 ', '11.25 ', '4.45 ', '8.75 ', '2.15 ', '1.50 ', '8.75 ', '4.45 ', '8.75 ', '11.75 ', '8.75 ', '8.75 ', '11.25 ', '11.25 ', '1.50 ', '8.75 ', '2.15 ', '11.75 ', '2.15 ', '9.25 ', '2.95 ', '18.50 ', '1.25 ', '4.45 ', '8.50 ', '8.50 ', '8.50 ', '11.25 ', '11.89 ', '1.25 ', '9.39 ', '4.45 ', '8.75 ', '2.15 ', '1.50 ', '11.75 ', '8.75 ', '9.25 ', '9.25 ', '4.45 ', '1.25 ', '11.25 ', '9.25 ', '2.95 ', '8.75 ', '8.75 ', '2.15 ', '8.75 ', '11.25 ', '11.25 ', '11.25 ', '11.75 ', '11.25 ', '2.15 ', '11.25 ', '2.15 ', '8.99 ', '8.99 ', '8.75 ', '9.25 ', '9.25 ', '11.25 ', '8.75 ', '4.45 ', '8.75 ', '1.25 ', '4.45 ', '11.25 ', '1.25 ', '8.75 ', '8.75 ', '11.25 ', '8.75 ', '1.25 ', '1.25 ', '1.25 ', '9.25 ', '11.75 ', '2.15 ', '8.75 ', '4.45 ', '8.75 ', '4.45 ', '11.25 ', '9.25 ', '8.75 ', '9.25 ', '4.45 ', '11.75 ', '4.45 ', '1.25 ', '4.45 ', '11.75 ', '9.25 ', '11.25 ', '2.15 ', '23.50 ', '9.25 ', '2.15 ', '18.50 ', '8.75 ', '5.90 ', '11.89 ', '4.45 ', '8.75 ', '4.45 ', '9.25 ', '2.95 ', '11.25 ', '2.95 ', '11.25 ', '11.25 ', '11.25 ', '2.95 ', '11.75 ', '9.25 ', '9.25 ', '2.95 ', '11.25 ', '2.15 ', '9.25 ', '8.90 ', '8.75 ', '11.25 ', '11.25 ', '11.25 ', '8.75 ', '2.15 ', '1.25 ', '11.25 ', '1.25 ', '8.75 ', '4.45 ', '1.25 ', '11.25 ', '11.25 ', '11.75 ', '1.25 ', '11.25 ', '11.25 ', '11.25 ', '8.75 ', '8.75 ', '18.50 ', '11.75 ', '1.25 ', '4.45 ', '9.25 ', '6.49 ', '4.45 ', '8.75 ', '11.25 ', '6.49 ', '11.75 ', '8.75 ', '9.25 ', '11.25 ', '2.15 ', '8.75 ', '4.45 ', '11.25 ', '4.45 ', '8.75 ', '9.25 ', '4.45 ', '1.25 ', '1.25 ', '8.75 ', '11.25 ', '11.75 ', '2.15 ', '11.75 ', '4.45 ', '11.75 ', '1.25 ', '11.75 ', '11.75 ', '11.25 ', '4.30 ', '9.39 ', '9.39 ', '8.75 ', '1.25 ', '9.25 ', '4.45 ', '11.25 ', '1.25 ', '8.75 ', '1.25 ', '2.95 ', '11.25 ', '4.45 ', '8.75 ', '1.50 ', '4.45 ', '4.45 ', '9.25 ', '8.75 ', '2.95 ', '1.25 ', '11.25 ', '2.95 ', '8.75 ', '8.75 ', '8.75 ', '8.75 ', '4.30 ', '9.25 ', '9.39 ', '4.45 ', '9.25 ', '1.25 ', '22.50 ', '4.45 ', '2.95 ', '2.15 ', '23.50 ', '11.75 ', '2.15 ', '1.25 ', '9.25 ', '4.45 ', '11.25 ', '11.75 ', '17.50 ', '8.75 ', '11.75 ', '11.25 ', '8.75 ', '4.45 ', '11.75 ', '1.50 ', '8.75 ', '8.75 ', '11.75 ', '9.25 ', '11.25 ', '4.45 ', '11.75 ', '9.25 ', '4.45 ', '11.25 ', '8.75 ', '8.75 ', '2.15 ', '1.50 ', '8.75 ', '4.45 ', '9.25 ', '8.75 ', '1.50 ', '1.25 ', '1.25 ', '1.25 ', '8.75 ', '2.95 ', '11.25 ', '11.25 ', '1.50 ', '11.75 ', '11.25 ', '2.15 ', '9.25 ', '8.75 ', '11.75 ', '2.95 ', '1.50 ', '8.75 ', '1.50 ', '1.25 ', '8.75 ', '11.75 ', '11.25 ', '11.25 ', '11.75 ', '11.25 ', '11.75 ', '8.75 ', '17.80 ', '5.00 ', '5.00 ', '8.75 ', '2.95 ', '1.25 ', '11.25 ', '1.25 ', '2.15 ', '11.25 ', '2.50 ', '9.25 ', '1.25 ', '11.25 ', '2.95 ', '11.75 ', '2.15 ', '11.25 ', '1.50 ', '8.99 ', '1.99 ', '11.49 ', '8.75 ', '4.45 ', '1.25 ', '8.75 ', '4.45 ', '1.25 ', '1.50 ', '11.75 ', '8.75 ', '8.75 ', '11.25 ', '6.49 ', '11.75 ', '8.75 ', '2.15 ', '1.25 ', '6.49 ', '8.75 ', '4.45 ', '8.75 ', '4.45 ', '8.75 ', '11.25 ', '4.45 ', '6.49 ', '9.25 ', '8.75 ', '1.25 ', '4.45 ', '11.25 ', '8.75 ', '1.50 ', '8.75 ', '1.50 ', '1.25 ', '9.25 ', '9.39 ', '4.45 ', '9.25 ', '8.75 ', '4.45 ', '1.25 ', '11.25 ', '11.75 ', '8.75 ', '11.25 ', '9.25 ', '8.75 ', '11.25 ', '2.50 ', '17.50 ', '9.25 ', '4.45 ', '11.25 ', '1.25 ', '8.75 ', '4.45 ', '1.50 ', '8.75 ', '1.50 ', '1.25 ', '9.39 ', '8.75 ', '8.75 ', '4.45 ', '11.25 ', '1.25 ', '9.25 ', '4.45 ', '11.25 ', '8.75 ', '3.00 ', '8.75 ', '2.15 ', '1.25 ', '11.25 ', '11.25 ', '4.45 ', '11.25 ', '11.25 ', '8.75 ', '11.75 ', '11.75 ', '11.75 ', '8.75 ', '4.45 ', '1.25 ', '1.50 ', '8.75 ', '4.45 ', '1.25 ', '9.25 ', '9.25 ', '8.75 ', '4.45 ', '1.25 ', '11.75 ', '11.25 ', '1.25 ', '11.75 ', '11.25 ', '9.25 ', '2.15 ', '1.50 ', '8.75 ', '4.45 ', '11.75 ', '11.75 ', '11.25 ', '8.75 ', '8.75 ']\n"
     ]
    },
    {
     "data": {
      "text/html": [
       "<div>\n",
       "<style scoped>\n",
       "    .dataframe tbody tr th:only-of-type {\n",
       "        vertical-align: middle;\n",
       "    }\n",
       "\n",
       "    .dataframe tbody tr th {\n",
       "        vertical-align: top;\n",
       "    }\n",
       "\n",
       "    .dataframe thead th {\n",
       "        text-align: right;\n",
       "    }\n",
       "</style>\n",
       "<table border=\"1\" class=\"dataframe\">\n",
       "  <thead>\n",
       "    <tr style=\"text-align: right;\">\n",
       "      <th></th>\n",
       "      <th>order_id</th>\n",
       "      <th>quantity</th>\n",
       "      <th>item_name</th>\n",
       "      <th>choice_description</th>\n",
       "      <th>item_price</th>\n",
       "    </tr>\n",
       "  </thead>\n",
       "  <tbody>\n",
       "    <tr>\n",
       "      <th>0</th>\n",
       "      <td>1</td>\n",
       "      <td>1</td>\n",
       "      <td>Chips and Fresh Tomato Salsa</td>\n",
       "      <td>NaN</td>\n",
       "      <td>$2.39</td>\n",
       "    </tr>\n",
       "    <tr>\n",
       "      <th>1</th>\n",
       "      <td>1</td>\n",
       "      <td>1</td>\n",
       "      <td>Izze</td>\n",
       "      <td>[Clementine]</td>\n",
       "      <td>$3.39</td>\n",
       "    </tr>\n",
       "    <tr>\n",
       "      <th>2</th>\n",
       "      <td>1</td>\n",
       "      <td>1</td>\n",
       "      <td>Nantucket Nectar</td>\n",
       "      <td>[Apple]</td>\n",
       "      <td>$3.39</td>\n",
       "    </tr>\n",
       "    <tr>\n",
       "      <th>3</th>\n",
       "      <td>1</td>\n",
       "      <td>1</td>\n",
       "      <td>Chips and Tomatillo-Green Chili Salsa</td>\n",
       "      <td>NaN</td>\n",
       "      <td>$2.39</td>\n",
       "    </tr>\n",
       "    <tr>\n",
       "      <th>4</th>\n",
       "      <td>2</td>\n",
       "      <td>2</td>\n",
       "      <td>Chicken Bowl</td>\n",
       "      <td>[Tomatillo-Red Chili Salsa (Hot), [Black Beans...</td>\n",
       "      <td>$16.98</td>\n",
       "    </tr>\n",
       "    <tr>\n",
       "      <th>...</th>\n",
       "      <td>...</td>\n",
       "      <td>...</td>\n",
       "      <td>...</td>\n",
       "      <td>...</td>\n",
       "      <td>...</td>\n",
       "    </tr>\n",
       "    <tr>\n",
       "      <th>4617</th>\n",
       "      <td>1833</td>\n",
       "      <td>1</td>\n",
       "      <td>Steak Burrito</td>\n",
       "      <td>[Fresh Tomato Salsa, [Rice, Black Beans, Sour ...</td>\n",
       "      <td>$11.75</td>\n",
       "    </tr>\n",
       "    <tr>\n",
       "      <th>4618</th>\n",
       "      <td>1833</td>\n",
       "      <td>1</td>\n",
       "      <td>Steak Burrito</td>\n",
       "      <td>[Fresh Tomato Salsa, [Rice, Sour Cream, Cheese...</td>\n",
       "      <td>$11.75</td>\n",
       "    </tr>\n",
       "    <tr>\n",
       "      <th>4619</th>\n",
       "      <td>1834</td>\n",
       "      <td>1</td>\n",
       "      <td>Chicken Salad Bowl</td>\n",
       "      <td>[Fresh Tomato Salsa, [Fajita Vegetables, Pinto...</td>\n",
       "      <td>$11.25</td>\n",
       "    </tr>\n",
       "    <tr>\n",
       "      <th>4620</th>\n",
       "      <td>1834</td>\n",
       "      <td>1</td>\n",
       "      <td>Chicken Salad Bowl</td>\n",
       "      <td>[Fresh Tomato Salsa, [Fajita Vegetables, Lettu...</td>\n",
       "      <td>$8.75</td>\n",
       "    </tr>\n",
       "    <tr>\n",
       "      <th>4621</th>\n",
       "      <td>1834</td>\n",
       "      <td>1</td>\n",
       "      <td>Chicken Salad Bowl</td>\n",
       "      <td>[Fresh Tomato Salsa, [Fajita Vegetables, Pinto...</td>\n",
       "      <td>$8.75</td>\n",
       "    </tr>\n",
       "  </tbody>\n",
       "</table>\n",
       "<p>4622 rows × 5 columns</p>\n",
       "</div>"
      ],
      "text/plain": [
       "      order_id  quantity                              item_name  \\\n",
       "0            1         1           Chips and Fresh Tomato Salsa   \n",
       "1            1         1                                   Izze   \n",
       "2            1         1                       Nantucket Nectar   \n",
       "3            1         1  Chips and Tomatillo-Green Chili Salsa   \n",
       "4            2         2                           Chicken Bowl   \n",
       "...        ...       ...                                    ...   \n",
       "4617      1833         1                          Steak Burrito   \n",
       "4618      1833         1                          Steak Burrito   \n",
       "4619      1834         1                     Chicken Salad Bowl   \n",
       "4620      1834         1                     Chicken Salad Bowl   \n",
       "4621      1834         1                     Chicken Salad Bowl   \n",
       "\n",
       "                                     choice_description item_price  \n",
       "0                                                   NaN     $2.39   \n",
       "1                                          [Clementine]     $3.39   \n",
       "2                                               [Apple]     $3.39   \n",
       "3                                                   NaN     $2.39   \n",
       "4     [Tomatillo-Red Chili Salsa (Hot), [Black Beans...    $16.98   \n",
       "...                                                 ...        ...  \n",
       "4617  [Fresh Tomato Salsa, [Rice, Black Beans, Sour ...    $11.75   \n",
       "4618  [Fresh Tomato Salsa, [Rice, Sour Cream, Cheese...    $11.75   \n",
       "4619  [Fresh Tomato Salsa, [Fajita Vegetables, Pinto...    $11.25   \n",
       "4620  [Fresh Tomato Salsa, [Fajita Vegetables, Lettu...     $8.75   \n",
       "4621  [Fresh Tomato Salsa, [Fajita Vegetables, Pinto...     $8.75   \n",
       "\n",
       "[4622 rows x 5 columns]"
      ]
     },
     "execution_count": 117,
     "metadata": {},
     "output_type": "execute_result"
    }
   ],
   "source": [
    "# it's a string (object) with a $ at the beginning of each value.\n",
    "\n",
    "# con un lambda a parte\n",
    "sindolar = lambda i: i.lstrip('$')\n",
    "\n",
    "prices = list(map(sindolar, chipo.item_price))\n",
    "# hemos creado una nueva lista con los nuevos valores, los antiguos con la lambda aplicada (lstrip para quitar el $)\n",
    "print(prices)\n",
    "\n",
    "chipo # pero aún no hemos cambiado la columna en el Df"
   ]
  },
  {
   "cell_type": "code",
   "execution_count": 118,
   "metadata": {},
   "outputs": [],
   "source": [
    "# asignamos los nuevos valores (de la lista) a la columna 'item_price'\n",
    "chipo['item_price'] = prices"
   ]
  },
  {
   "cell_type": "code",
   "execution_count": 119,
   "metadata": {},
   "outputs": [
    {
     "data": {
      "text/html": [
       "<div>\n",
       "<style scoped>\n",
       "    .dataframe tbody tr th:only-of-type {\n",
       "        vertical-align: middle;\n",
       "    }\n",
       "\n",
       "    .dataframe tbody tr th {\n",
       "        vertical-align: top;\n",
       "    }\n",
       "\n",
       "    .dataframe thead th {\n",
       "        text-align: right;\n",
       "    }\n",
       "</style>\n",
       "<table border=\"1\" class=\"dataframe\">\n",
       "  <thead>\n",
       "    <tr style=\"text-align: right;\">\n",
       "      <th></th>\n",
       "      <th>order_id</th>\n",
       "      <th>quantity</th>\n",
       "      <th>item_name</th>\n",
       "      <th>choice_description</th>\n",
       "      <th>item_price</th>\n",
       "    </tr>\n",
       "  </thead>\n",
       "  <tbody>\n",
       "    <tr>\n",
       "      <th>0</th>\n",
       "      <td>1</td>\n",
       "      <td>1</td>\n",
       "      <td>Chips and Fresh Tomato Salsa</td>\n",
       "      <td>NaN</td>\n",
       "      <td>2.39</td>\n",
       "    </tr>\n",
       "    <tr>\n",
       "      <th>1</th>\n",
       "      <td>1</td>\n",
       "      <td>1</td>\n",
       "      <td>Izze</td>\n",
       "      <td>[Clementine]</td>\n",
       "      <td>3.39</td>\n",
       "    </tr>\n",
       "    <tr>\n",
       "      <th>2</th>\n",
       "      <td>1</td>\n",
       "      <td>1</td>\n",
       "      <td>Nantucket Nectar</td>\n",
       "      <td>[Apple]</td>\n",
       "      <td>3.39</td>\n",
       "    </tr>\n",
       "    <tr>\n",
       "      <th>3</th>\n",
       "      <td>1</td>\n",
       "      <td>1</td>\n",
       "      <td>Chips and Tomatillo-Green Chili Salsa</td>\n",
       "      <td>NaN</td>\n",
       "      <td>2.39</td>\n",
       "    </tr>\n",
       "    <tr>\n",
       "      <th>4</th>\n",
       "      <td>2</td>\n",
       "      <td>2</td>\n",
       "      <td>Chicken Bowl</td>\n",
       "      <td>[Tomatillo-Red Chili Salsa (Hot), [Black Beans...</td>\n",
       "      <td>16.98</td>\n",
       "    </tr>\n",
       "    <tr>\n",
       "      <th>...</th>\n",
       "      <td>...</td>\n",
       "      <td>...</td>\n",
       "      <td>...</td>\n",
       "      <td>...</td>\n",
       "      <td>...</td>\n",
       "    </tr>\n",
       "    <tr>\n",
       "      <th>4617</th>\n",
       "      <td>1833</td>\n",
       "      <td>1</td>\n",
       "      <td>Steak Burrito</td>\n",
       "      <td>[Fresh Tomato Salsa, [Rice, Black Beans, Sour ...</td>\n",
       "      <td>11.75</td>\n",
       "    </tr>\n",
       "    <tr>\n",
       "      <th>4618</th>\n",
       "      <td>1833</td>\n",
       "      <td>1</td>\n",
       "      <td>Steak Burrito</td>\n",
       "      <td>[Fresh Tomato Salsa, [Rice, Sour Cream, Cheese...</td>\n",
       "      <td>11.75</td>\n",
       "    </tr>\n",
       "    <tr>\n",
       "      <th>4619</th>\n",
       "      <td>1834</td>\n",
       "      <td>1</td>\n",
       "      <td>Chicken Salad Bowl</td>\n",
       "      <td>[Fresh Tomato Salsa, [Fajita Vegetables, Pinto...</td>\n",
       "      <td>11.25</td>\n",
       "    </tr>\n",
       "    <tr>\n",
       "      <th>4620</th>\n",
       "      <td>1834</td>\n",
       "      <td>1</td>\n",
       "      <td>Chicken Salad Bowl</td>\n",
       "      <td>[Fresh Tomato Salsa, [Fajita Vegetables, Lettu...</td>\n",
       "      <td>8.75</td>\n",
       "    </tr>\n",
       "    <tr>\n",
       "      <th>4621</th>\n",
       "      <td>1834</td>\n",
       "      <td>1</td>\n",
       "      <td>Chicken Salad Bowl</td>\n",
       "      <td>[Fresh Tomato Salsa, [Fajita Vegetables, Pinto...</td>\n",
       "      <td>8.75</td>\n",
       "    </tr>\n",
       "  </tbody>\n",
       "</table>\n",
       "<p>4622 rows × 5 columns</p>\n",
       "</div>"
      ],
      "text/plain": [
       "      order_id  quantity                              item_name  \\\n",
       "0            1         1           Chips and Fresh Tomato Salsa   \n",
       "1            1         1                                   Izze   \n",
       "2            1         1                       Nantucket Nectar   \n",
       "3            1         1  Chips and Tomatillo-Green Chili Salsa   \n",
       "4            2         2                           Chicken Bowl   \n",
       "...        ...       ...                                    ...   \n",
       "4617      1833         1                          Steak Burrito   \n",
       "4618      1833         1                          Steak Burrito   \n",
       "4619      1834         1                     Chicken Salad Bowl   \n",
       "4620      1834         1                     Chicken Salad Bowl   \n",
       "4621      1834         1                     Chicken Salad Bowl   \n",
       "\n",
       "                                     choice_description item_price  \n",
       "0                                                   NaN      2.39   \n",
       "1                                          [Clementine]      3.39   \n",
       "2                                               [Apple]      3.39   \n",
       "3                                                   NaN      2.39   \n",
       "4     [Tomatillo-Red Chili Salsa (Hot), [Black Beans...     16.98   \n",
       "...                                                 ...        ...  \n",
       "4617  [Fresh Tomato Salsa, [Rice, Black Beans, Sour ...     11.75   \n",
       "4618  [Fresh Tomato Salsa, [Rice, Sour Cream, Cheese...     11.75   \n",
       "4619  [Fresh Tomato Salsa, [Fajita Vegetables, Pinto...     11.25   \n",
       "4620  [Fresh Tomato Salsa, [Fajita Vegetables, Lettu...      8.75   \n",
       "4621  [Fresh Tomato Salsa, [Fajita Vegetables, Pinto...      8.75   \n",
       "\n",
       "[4622 rows x 5 columns]"
      ]
     },
     "execution_count": 119,
     "metadata": {},
     "output_type": "execute_result"
    }
   ],
   "source": [
    "# comprobamos que se haya cambiado la columna\n",
    "chipo"
   ]
  },
  {
   "cell_type": "code",
   "execution_count": 120,
   "metadata": {},
   "outputs": [],
   "source": [
    "# realmente se puede hacer con una sola línea de código\n",
    "chipo['item_price'] = chipo['item_price'].apply(lambda i: i.lstrip('$'))"
   ]
  },
  {
   "cell_type": "code",
   "execution_count": 121,
   "metadata": {},
   "outputs": [],
   "source": [
    "# ahora que son numeros, sí que podemos cambiar el type de la columna\n",
    "chipo['item_price'] = chipo['item_price'].astype(float)"
   ]
  },
  {
   "cell_type": "markdown",
   "metadata": {},
   "source": [
    "#### Step 13.c. Check the item price type"
   ]
  },
  {
   "cell_type": "code",
   "execution_count": 122,
   "metadata": {
    "collapsed": false,
    "jupyter": {
     "outputs_hidden": false
    }
   },
   "outputs": [
    {
     "data": {
      "text/plain": [
       "dtype('float64')"
      ]
     },
     "execution_count": 122,
     "metadata": {},
     "output_type": "execute_result"
    }
   ],
   "source": [
    "chipo.item_price.dtype"
   ]
  },
  {
   "cell_type": "code",
   "execution_count": 123,
   "metadata": {},
   "outputs": [
    {
     "data": {
      "text/plain": [
       "order_id                int64\n",
       "quantity                int64\n",
       "item_name              object\n",
       "choice_description     object\n",
       "item_price            float64\n",
       "dtype: object"
      ]
     },
     "execution_count": 123,
     "metadata": {},
     "output_type": "execute_result"
    }
   ],
   "source": [
    "chipo.dtypes"
   ]
  },
  {
   "cell_type": "markdown",
   "metadata": {},
   "source": [
    "### Step 14. How much was the revenue for the period in the dataset?"
   ]
  },
  {
   "cell_type": "code",
   "execution_count": 124,
   "metadata": {
    "collapsed": false,
    "jupyter": {
     "outputs_hidden": false
    }
   },
   "outputs": [
    {
     "data": {
      "text/html": [
       "<div>\n",
       "<style scoped>\n",
       "    .dataframe tbody tr th:only-of-type {\n",
       "        vertical-align: middle;\n",
       "    }\n",
       "\n",
       "    .dataframe tbody tr th {\n",
       "        vertical-align: top;\n",
       "    }\n",
       "\n",
       "    .dataframe thead th {\n",
       "        text-align: right;\n",
       "    }\n",
       "</style>\n",
       "<table border=\"1\" class=\"dataframe\">\n",
       "  <thead>\n",
       "    <tr style=\"text-align: right;\">\n",
       "      <th></th>\n",
       "      <th>order_id</th>\n",
       "      <th>quantity</th>\n",
       "      <th>item_name</th>\n",
       "      <th>choice_description</th>\n",
       "      <th>item_price</th>\n",
       "      <th>revenue</th>\n",
       "    </tr>\n",
       "  </thead>\n",
       "  <tbody>\n",
       "    <tr>\n",
       "      <th>4</th>\n",
       "      <td>2</td>\n",
       "      <td>2</td>\n",
       "      <td>Chicken Bowl</td>\n",
       "      <td>[Tomatillo-Red Chili Salsa (Hot), [Black Beans...</td>\n",
       "      <td>16.98</td>\n",
       "      <td>33.96</td>\n",
       "    </tr>\n",
       "    <tr>\n",
       "      <th>18</th>\n",
       "      <td>9</td>\n",
       "      <td>2</td>\n",
       "      <td>Canned Soda</td>\n",
       "      <td>[Sprite]</td>\n",
       "      <td>2.18</td>\n",
       "      <td>4.36</td>\n",
       "    </tr>\n",
       "    <tr>\n",
       "      <th>51</th>\n",
       "      <td>23</td>\n",
       "      <td>2</td>\n",
       "      <td>Canned Soda</td>\n",
       "      <td>[Mountain Dew]</td>\n",
       "      <td>2.18</td>\n",
       "      <td>4.36</td>\n",
       "    </tr>\n",
       "    <tr>\n",
       "      <th>135</th>\n",
       "      <td>60</td>\n",
       "      <td>2</td>\n",
       "      <td>Chicken Salad Bowl</td>\n",
       "      <td>[Tomatillo Green Chili Salsa, [Sour Cream, Che...</td>\n",
       "      <td>22.50</td>\n",
       "      <td>45.00</td>\n",
       "    </tr>\n",
       "    <tr>\n",
       "      <th>148</th>\n",
       "      <td>67</td>\n",
       "      <td>2</td>\n",
       "      <td>Steak Burrito</td>\n",
       "      <td>[Tomatillo-Red Chili Salsa (Hot), [Rice, Chees...</td>\n",
       "      <td>17.98</td>\n",
       "      <td>35.96</td>\n",
       "    </tr>\n",
       "    <tr>\n",
       "      <th>...</th>\n",
       "      <td>...</td>\n",
       "      <td>...</td>\n",
       "      <td>...</td>\n",
       "      <td>...</td>\n",
       "      <td>...</td>\n",
       "      <td>...</td>\n",
       "    </tr>\n",
       "    <tr>\n",
       "      <th>4491</th>\n",
       "      <td>1786</td>\n",
       "      <td>4</td>\n",
       "      <td>Canned Soft Drink</td>\n",
       "      <td>[Sprite]</td>\n",
       "      <td>5.00</td>\n",
       "      <td>20.00</td>\n",
       "    </tr>\n",
       "    <tr>\n",
       "      <th>4499</th>\n",
       "      <td>1789</td>\n",
       "      <td>2</td>\n",
       "      <td>Canned Soft Drink</td>\n",
       "      <td>[Coke]</td>\n",
       "      <td>2.50</td>\n",
       "      <td>5.00</td>\n",
       "    </tr>\n",
       "    <tr>\n",
       "      <th>4560</th>\n",
       "      <td>1812</td>\n",
       "      <td>2</td>\n",
       "      <td>Canned Soft Drink</td>\n",
       "      <td>[Coke]</td>\n",
       "      <td>2.50</td>\n",
       "      <td>5.00</td>\n",
       "    </tr>\n",
       "    <tr>\n",
       "      <th>4561</th>\n",
       "      <td>1813</td>\n",
       "      <td>2</td>\n",
       "      <td>Chicken Salad Bowl</td>\n",
       "      <td>[Fresh Tomato Salsa, [Fajita Vegetables, Pinto...</td>\n",
       "      <td>17.50</td>\n",
       "      <td>35.00</td>\n",
       "    </tr>\n",
       "    <tr>\n",
       "      <th>4582</th>\n",
       "      <td>1822</td>\n",
       "      <td>2</td>\n",
       "      <td>Bottled Water</td>\n",
       "      <td>NaN</td>\n",
       "      <td>3.00</td>\n",
       "      <td>6.00</td>\n",
       "    </tr>\n",
       "  </tbody>\n",
       "</table>\n",
       "<p>267 rows × 6 columns</p>\n",
       "</div>"
      ],
      "text/plain": [
       "      order_id  quantity           item_name  \\\n",
       "4            2         2        Chicken Bowl   \n",
       "18           9         2         Canned Soda   \n",
       "51          23         2         Canned Soda   \n",
       "135         60         2  Chicken Salad Bowl   \n",
       "148         67         2       Steak Burrito   \n",
       "...        ...       ...                 ...   \n",
       "4491      1786         4   Canned Soft Drink   \n",
       "4499      1789         2   Canned Soft Drink   \n",
       "4560      1812         2   Canned Soft Drink   \n",
       "4561      1813         2  Chicken Salad Bowl   \n",
       "4582      1822         2       Bottled Water   \n",
       "\n",
       "                                     choice_description  item_price  revenue  \n",
       "4     [Tomatillo-Red Chili Salsa (Hot), [Black Beans...       16.98    33.96  \n",
       "18                                             [Sprite]        2.18     4.36  \n",
       "51                                       [Mountain Dew]        2.18     4.36  \n",
       "135   [Tomatillo Green Chili Salsa, [Sour Cream, Che...       22.50    45.00  \n",
       "148   [Tomatillo-Red Chili Salsa (Hot), [Rice, Chees...       17.98    35.96  \n",
       "...                                                 ...         ...      ...  \n",
       "4491                                           [Sprite]        5.00    20.00  \n",
       "4499                                             [Coke]        2.50     5.00  \n",
       "4560                                             [Coke]        2.50     5.00  \n",
       "4561  [Fresh Tomato Salsa, [Fajita Vegetables, Pinto...       17.50    35.00  \n",
       "4582                                                NaN        3.00     6.00  \n",
       "\n",
       "[267 rows x 6 columns]"
      ]
     },
     "execution_count": 124,
     "metadata": {},
     "output_type": "execute_result"
    }
   ],
   "source": [
    "chipo['revenue'] = chipo['item_price']*chipo['quantity'] # creamos una nueva columna 'revenue'\n",
    "chipo[chipo['quantity']>1] # compruebo que el resultado sea correcto haciendo un masking para cantidades > 1"
   ]
  },
  {
   "cell_type": "code",
   "execution_count": 125,
   "metadata": {},
   "outputs": [
    {
     "name": "stdout",
     "output_type": "stream",
     "text": [
      "Total Revenue: 39237.02 $\n"
     ]
    }
   ],
   "source": [
    "revenue = chipo.revenue.sum()\n",
    "print(f\"Total Revenue: {revenue} $\")"
   ]
  },
  {
   "cell_type": "code",
   "execution_count": 126,
   "metadata": {},
   "outputs": [
    {
     "data": {
      "text/html": [
       "<div>\n",
       "<style scoped>\n",
       "    .dataframe tbody tr th:only-of-type {\n",
       "        vertical-align: middle;\n",
       "    }\n",
       "\n",
       "    .dataframe tbody tr th {\n",
       "        vertical-align: top;\n",
       "    }\n",
       "\n",
       "    .dataframe thead th {\n",
       "        text-align: right;\n",
       "    }\n",
       "</style>\n",
       "<table border=\"1\" class=\"dataframe\">\n",
       "  <thead>\n",
       "    <tr style=\"text-align: right;\">\n",
       "      <th></th>\n",
       "      <th>order_id</th>\n",
       "      <th>quantity</th>\n",
       "      <th>item_name</th>\n",
       "      <th>choice_description</th>\n",
       "      <th>item_price</th>\n",
       "      <th>revenue</th>\n",
       "    </tr>\n",
       "  </thead>\n",
       "  <tbody>\n",
       "    <tr>\n",
       "      <th>0</th>\n",
       "      <td>1</td>\n",
       "      <td>1</td>\n",
       "      <td>Chips and Fresh Tomato Salsa</td>\n",
       "      <td>NaN</td>\n",
       "      <td>2.39</td>\n",
       "      <td>2.39</td>\n",
       "    </tr>\n",
       "    <tr>\n",
       "      <th>1</th>\n",
       "      <td>1</td>\n",
       "      <td>1</td>\n",
       "      <td>Izze</td>\n",
       "      <td>[Clementine]</td>\n",
       "      <td>3.39</td>\n",
       "      <td>3.39</td>\n",
       "    </tr>\n",
       "    <tr>\n",
       "      <th>2</th>\n",
       "      <td>1</td>\n",
       "      <td>1</td>\n",
       "      <td>Nantucket Nectar</td>\n",
       "      <td>[Apple]</td>\n",
       "      <td>3.39</td>\n",
       "      <td>3.39</td>\n",
       "    </tr>\n",
       "    <tr>\n",
       "      <th>3</th>\n",
       "      <td>1</td>\n",
       "      <td>1</td>\n",
       "      <td>Chips and Tomatillo-Green Chili Salsa</td>\n",
       "      <td>NaN</td>\n",
       "      <td>2.39</td>\n",
       "      <td>2.39</td>\n",
       "    </tr>\n",
       "    <tr>\n",
       "      <th>4</th>\n",
       "      <td>2</td>\n",
       "      <td>2</td>\n",
       "      <td>Chicken Bowl</td>\n",
       "      <td>[Tomatillo-Red Chili Salsa (Hot), [Black Beans...</td>\n",
       "      <td>16.98</td>\n",
       "      <td>33.96</td>\n",
       "    </tr>\n",
       "    <tr>\n",
       "      <th>...</th>\n",
       "      <td>...</td>\n",
       "      <td>...</td>\n",
       "      <td>...</td>\n",
       "      <td>...</td>\n",
       "      <td>...</td>\n",
       "      <td>...</td>\n",
       "    </tr>\n",
       "    <tr>\n",
       "      <th>4617</th>\n",
       "      <td>1833</td>\n",
       "      <td>1</td>\n",
       "      <td>Steak Burrito</td>\n",
       "      <td>[Fresh Tomato Salsa, [Rice, Black Beans, Sour ...</td>\n",
       "      <td>11.75</td>\n",
       "      <td>11.75</td>\n",
       "    </tr>\n",
       "    <tr>\n",
       "      <th>4618</th>\n",
       "      <td>1833</td>\n",
       "      <td>1</td>\n",
       "      <td>Steak Burrito</td>\n",
       "      <td>[Fresh Tomato Salsa, [Rice, Sour Cream, Cheese...</td>\n",
       "      <td>11.75</td>\n",
       "      <td>11.75</td>\n",
       "    </tr>\n",
       "    <tr>\n",
       "      <th>4619</th>\n",
       "      <td>1834</td>\n",
       "      <td>1</td>\n",
       "      <td>Chicken Salad Bowl</td>\n",
       "      <td>[Fresh Tomato Salsa, [Fajita Vegetables, Pinto...</td>\n",
       "      <td>11.25</td>\n",
       "      <td>11.25</td>\n",
       "    </tr>\n",
       "    <tr>\n",
       "      <th>4620</th>\n",
       "      <td>1834</td>\n",
       "      <td>1</td>\n",
       "      <td>Chicken Salad Bowl</td>\n",
       "      <td>[Fresh Tomato Salsa, [Fajita Vegetables, Lettu...</td>\n",
       "      <td>8.75</td>\n",
       "      <td>8.75</td>\n",
       "    </tr>\n",
       "    <tr>\n",
       "      <th>4621</th>\n",
       "      <td>1834</td>\n",
       "      <td>1</td>\n",
       "      <td>Chicken Salad Bowl</td>\n",
       "      <td>[Fresh Tomato Salsa, [Fajita Vegetables, Pinto...</td>\n",
       "      <td>8.75</td>\n",
       "      <td>8.75</td>\n",
       "    </tr>\n",
       "  </tbody>\n",
       "</table>\n",
       "<p>4622 rows × 6 columns</p>\n",
       "</div>"
      ],
      "text/plain": [
       "      order_id  quantity                              item_name  \\\n",
       "0            1         1           Chips and Fresh Tomato Salsa   \n",
       "1            1         1                                   Izze   \n",
       "2            1         1                       Nantucket Nectar   \n",
       "3            1         1  Chips and Tomatillo-Green Chili Salsa   \n",
       "4            2         2                           Chicken Bowl   \n",
       "...        ...       ...                                    ...   \n",
       "4617      1833         1                          Steak Burrito   \n",
       "4618      1833         1                          Steak Burrito   \n",
       "4619      1834         1                     Chicken Salad Bowl   \n",
       "4620      1834         1                     Chicken Salad Bowl   \n",
       "4621      1834         1                     Chicken Salad Bowl   \n",
       "\n",
       "                                     choice_description  item_price  revenue  \n",
       "0                                                   NaN        2.39     2.39  \n",
       "1                                          [Clementine]        3.39     3.39  \n",
       "2                                               [Apple]        3.39     3.39  \n",
       "3                                                   NaN        2.39     2.39  \n",
       "4     [Tomatillo-Red Chili Salsa (Hot), [Black Beans...       16.98    33.96  \n",
       "...                                                 ...         ...      ...  \n",
       "4617  [Fresh Tomato Salsa, [Rice, Black Beans, Sour ...       11.75    11.75  \n",
       "4618  [Fresh Tomato Salsa, [Rice, Sour Cream, Cheese...       11.75    11.75  \n",
       "4619  [Fresh Tomato Salsa, [Fajita Vegetables, Pinto...       11.25    11.25  \n",
       "4620  [Fresh Tomato Salsa, [Fajita Vegetables, Lettu...        8.75     8.75  \n",
       "4621  [Fresh Tomato Salsa, [Fajita Vegetables, Pinto...        8.75     8.75  \n",
       "\n",
       "[4622 rows x 6 columns]"
      ]
     },
     "execution_count": 126,
     "metadata": {},
     "output_type": "execute_result"
    }
   ],
   "source": [
    "chipo"
   ]
  },
  {
   "cell_type": "markdown",
   "metadata": {},
   "source": [
    "### Step 15. How many orders were made in the period?"
   ]
  },
  {
   "cell_type": "code",
   "execution_count": 127,
   "metadata": {},
   "outputs": [
    {
     "data": {
      "text/plain": [
       "1834"
      ]
     },
     "execution_count": 127,
     "metadata": {},
     "output_type": "execute_result"
    }
   ],
   "source": [
    "len(chipo.order_id.unique())"
   ]
  },
  {
   "cell_type": "code",
   "execution_count": 128,
   "metadata": {},
   "outputs": [
    {
     "data": {
      "text/plain": [
       "1834"
      ]
     },
     "execution_count": 128,
     "metadata": {},
     "output_type": "execute_result"
    }
   ],
   "source": [
    "chipo.order_id.nunique()"
   ]
  },
  {
   "cell_type": "markdown",
   "metadata": {},
   "source": [
    "### Step 16. What is the average revenue amount per order?"
   ]
  },
  {
   "cell_type": "code",
   "execution_count": 129,
   "metadata": {
    "collapsed": false,
    "jupyter": {
     "outputs_hidden": false
    }
   },
   "outputs": [
    {
     "name": "stdout",
     "output_type": "stream",
     "text": [
      "Total Revenue: 39237.02 $\n",
      "Number of Orders: 1834 $\n",
      "Average revenue per order: 21.39 $\n"
     ]
    }
   ],
   "source": [
    "# Solution 1\n",
    "revenue = chipo.revenue.sum()\n",
    "print(f\"Total Revenue: {revenue} $\")\n",
    "orders = chipo.order_id.nunique()\n",
    "print(f\"Number of Orders: {orders} $\")\n",
    "average = revenue/orders\n",
    "average = round(average, 2)\n",
    "print(f\"Average revenue per order: {average} $\")\n"
   ]
  },
  {
   "cell_type": "code",
   "execution_count": 130,
   "metadata": {
    "collapsed": false,
    "jupyter": {
     "outputs_hidden": false
    }
   },
   "outputs": [],
   "source": [
    "# Solution 2\n"
   ]
  },
  {
   "cell_type": "markdown",
   "metadata": {},
   "source": [
    "### Step 17. How many different items are sold?"
   ]
  },
  {
   "cell_type": "code",
   "execution_count": 131,
   "metadata": {},
   "outputs": [
    {
     "data": {
      "text/plain": [
       "50"
      ]
     },
     "execution_count": 131,
     "metadata": {},
     "output_type": "execute_result"
    }
   ],
   "source": [
    "chipo.item_name.nunique()"
   ]
  },
  {
   "cell_type": "markdown",
   "metadata": {},
   "source": [
    "# Part 2 - Filtering and Sorting Data"
   ]
  },
  {
   "cell_type": "markdown",
   "metadata": {},
   "source": [
    "This time we are going to pull data directly from the internet.\n",
    "Special thanks to: https://github.com/justmarkham for sharing the dataset and materials.\n",
    "\n",
    "### Step 1. Import the necessary libraries"
   ]
  },
  {
   "cell_type": "code",
   "execution_count": 132,
   "metadata": {
    "collapsed": false,
    "jupyter": {
     "outputs_hidden": false
    }
   },
   "outputs": [],
   "source": [
    "import numpy as np\n",
    "import pandas as pd"
   ]
  },
  {
   "cell_type": "markdown",
   "metadata": {},
   "source": [
    "### Step 2. Import the dataset from this [address](https://raw.githubusercontent.com/justmarkham/DAT8/master/data/chipotle.tsv). "
   ]
  },
  {
   "cell_type": "markdown",
   "metadata": {},
   "source": [
    "### Step 3. Assign it to a variable called chipo."
   ]
  },
  {
   "cell_type": "code",
   "execution_count": 133,
   "metadata": {},
   "outputs": [
    {
     "data": {
      "text/html": [
       "<div>\n",
       "<style scoped>\n",
       "    .dataframe tbody tr th:only-of-type {\n",
       "        vertical-align: middle;\n",
       "    }\n",
       "\n",
       "    .dataframe tbody tr th {\n",
       "        vertical-align: top;\n",
       "    }\n",
       "\n",
       "    .dataframe thead th {\n",
       "        text-align: right;\n",
       "    }\n",
       "</style>\n",
       "<table border=\"1\" class=\"dataframe\">\n",
       "  <thead>\n",
       "    <tr style=\"text-align: right;\">\n",
       "      <th></th>\n",
       "      <th>order_id</th>\n",
       "      <th>quantity</th>\n",
       "      <th>item_name</th>\n",
       "      <th>choice_description</th>\n",
       "      <th>item_price</th>\n",
       "      <th>revenue</th>\n",
       "    </tr>\n",
       "  </thead>\n",
       "  <tbody>\n",
       "    <tr>\n",
       "      <th>0</th>\n",
       "      <td>1</td>\n",
       "      <td>1</td>\n",
       "      <td>Chips and Fresh Tomato Salsa</td>\n",
       "      <td>NaN</td>\n",
       "      <td>2.39</td>\n",
       "      <td>2.39</td>\n",
       "    </tr>\n",
       "    <tr>\n",
       "      <th>1</th>\n",
       "      <td>1</td>\n",
       "      <td>1</td>\n",
       "      <td>Izze</td>\n",
       "      <td>[Clementine]</td>\n",
       "      <td>3.39</td>\n",
       "      <td>3.39</td>\n",
       "    </tr>\n",
       "    <tr>\n",
       "      <th>2</th>\n",
       "      <td>1</td>\n",
       "      <td>1</td>\n",
       "      <td>Nantucket Nectar</td>\n",
       "      <td>[Apple]</td>\n",
       "      <td>3.39</td>\n",
       "      <td>3.39</td>\n",
       "    </tr>\n",
       "    <tr>\n",
       "      <th>3</th>\n",
       "      <td>1</td>\n",
       "      <td>1</td>\n",
       "      <td>Chips and Tomatillo-Green Chili Salsa</td>\n",
       "      <td>NaN</td>\n",
       "      <td>2.39</td>\n",
       "      <td>2.39</td>\n",
       "    </tr>\n",
       "    <tr>\n",
       "      <th>4</th>\n",
       "      <td>2</td>\n",
       "      <td>2</td>\n",
       "      <td>Chicken Bowl</td>\n",
       "      <td>[Tomatillo-Red Chili Salsa (Hot), [Black Beans...</td>\n",
       "      <td>16.98</td>\n",
       "      <td>33.96</td>\n",
       "    </tr>\n",
       "    <tr>\n",
       "      <th>...</th>\n",
       "      <td>...</td>\n",
       "      <td>...</td>\n",
       "      <td>...</td>\n",
       "      <td>...</td>\n",
       "      <td>...</td>\n",
       "      <td>...</td>\n",
       "    </tr>\n",
       "    <tr>\n",
       "      <th>4617</th>\n",
       "      <td>1833</td>\n",
       "      <td>1</td>\n",
       "      <td>Steak Burrito</td>\n",
       "      <td>[Fresh Tomato Salsa, [Rice, Black Beans, Sour ...</td>\n",
       "      <td>11.75</td>\n",
       "      <td>11.75</td>\n",
       "    </tr>\n",
       "    <tr>\n",
       "      <th>4618</th>\n",
       "      <td>1833</td>\n",
       "      <td>1</td>\n",
       "      <td>Steak Burrito</td>\n",
       "      <td>[Fresh Tomato Salsa, [Rice, Sour Cream, Cheese...</td>\n",
       "      <td>11.75</td>\n",
       "      <td>11.75</td>\n",
       "    </tr>\n",
       "    <tr>\n",
       "      <th>4619</th>\n",
       "      <td>1834</td>\n",
       "      <td>1</td>\n",
       "      <td>Chicken Salad Bowl</td>\n",
       "      <td>[Fresh Tomato Salsa, [Fajita Vegetables, Pinto...</td>\n",
       "      <td>11.25</td>\n",
       "      <td>11.25</td>\n",
       "    </tr>\n",
       "    <tr>\n",
       "      <th>4620</th>\n",
       "      <td>1834</td>\n",
       "      <td>1</td>\n",
       "      <td>Chicken Salad Bowl</td>\n",
       "      <td>[Fresh Tomato Salsa, [Fajita Vegetables, Lettu...</td>\n",
       "      <td>8.75</td>\n",
       "      <td>8.75</td>\n",
       "    </tr>\n",
       "    <tr>\n",
       "      <th>4621</th>\n",
       "      <td>1834</td>\n",
       "      <td>1</td>\n",
       "      <td>Chicken Salad Bowl</td>\n",
       "      <td>[Fresh Tomato Salsa, [Fajita Vegetables, Pinto...</td>\n",
       "      <td>8.75</td>\n",
       "      <td>8.75</td>\n",
       "    </tr>\n",
       "  </tbody>\n",
       "</table>\n",
       "<p>4622 rows × 6 columns</p>\n",
       "</div>"
      ],
      "text/plain": [
       "      order_id  quantity                              item_name  \\\n",
       "0            1         1           Chips and Fresh Tomato Salsa   \n",
       "1            1         1                                   Izze   \n",
       "2            1         1                       Nantucket Nectar   \n",
       "3            1         1  Chips and Tomatillo-Green Chili Salsa   \n",
       "4            2         2                           Chicken Bowl   \n",
       "...        ...       ...                                    ...   \n",
       "4617      1833         1                          Steak Burrito   \n",
       "4618      1833         1                          Steak Burrito   \n",
       "4619      1834         1                     Chicken Salad Bowl   \n",
       "4620      1834         1                     Chicken Salad Bowl   \n",
       "4621      1834         1                     Chicken Salad Bowl   \n",
       "\n",
       "                                     choice_description  item_price  revenue  \n",
       "0                                                   NaN        2.39     2.39  \n",
       "1                                          [Clementine]        3.39     3.39  \n",
       "2                                               [Apple]        3.39     3.39  \n",
       "3                                                   NaN        2.39     2.39  \n",
       "4     [Tomatillo-Red Chili Salsa (Hot), [Black Beans...       16.98    33.96  \n",
       "...                                                 ...         ...      ...  \n",
       "4617  [Fresh Tomato Salsa, [Rice, Black Beans, Sour ...       11.75    11.75  \n",
       "4618  [Fresh Tomato Salsa, [Rice, Sour Cream, Cheese...       11.75    11.75  \n",
       "4619  [Fresh Tomato Salsa, [Fajita Vegetables, Pinto...       11.25    11.25  \n",
       "4620  [Fresh Tomato Salsa, [Fajita Vegetables, Lettu...        8.75     8.75  \n",
       "4621  [Fresh Tomato Salsa, [Fajita Vegetables, Pinto...        8.75     8.75  \n",
       "\n",
       "[4622 rows x 6 columns]"
      ]
     },
     "execution_count": 133,
     "metadata": {},
     "output_type": "execute_result"
    }
   ],
   "source": [
    "# we already did that\n",
    "chipo"
   ]
  },
  {
   "cell_type": "markdown",
   "metadata": {},
   "source": [
    "### Step 4. How many products cost more than $10.00?"
   ]
  },
  {
   "cell_type": "code",
   "execution_count": 134,
   "metadata": {
    "collapsed": false,
    "jupyter": {
     "outputs_hidden": false
    }
   },
   "outputs": [
    {
     "data": {
      "text/plain": [
       "31"
      ]
     },
     "execution_count": 134,
     "metadata": {},
     "output_type": "execute_result"
    }
   ],
   "source": [
    "masde10 = chipo[chipo['item_price']>10]\n",
    "masde10['item_name'].nunique()"
   ]
  },
  {
   "cell_type": "markdown",
   "metadata": {},
   "source": [
    "### Step 5. What is the price of each item? \n",
    "###### print a data frame with only two columns item_name and item_price"
   ]
  },
  {
   "cell_type": "code",
   "execution_count": 135,
   "metadata": {},
   "outputs": [
    {
     "data": {
      "text/html": [
       "<div>\n",
       "<style scoped>\n",
       "    .dataframe tbody tr th:only-of-type {\n",
       "        vertical-align: middle;\n",
       "    }\n",
       "\n",
       "    .dataframe tbody tr th {\n",
       "        vertical-align: top;\n",
       "    }\n",
       "\n",
       "    .dataframe thead th {\n",
       "        text-align: right;\n",
       "    }\n",
       "</style>\n",
       "<table border=\"1\" class=\"dataframe\">\n",
       "  <thead>\n",
       "    <tr style=\"text-align: right;\">\n",
       "      <th></th>\n",
       "      <th>order_id</th>\n",
       "      <th>quantity</th>\n",
       "      <th>item_name</th>\n",
       "      <th>choice_description</th>\n",
       "      <th>item_price</th>\n",
       "      <th>revenue</th>\n",
       "    </tr>\n",
       "  </thead>\n",
       "  <tbody>\n",
       "    <tr>\n",
       "      <th>4</th>\n",
       "      <td>2</td>\n",
       "      <td>2</td>\n",
       "      <td>Chicken Bowl</td>\n",
       "      <td>[Tomatillo-Red Chili Salsa (Hot), [Black Beans...</td>\n",
       "      <td>16.98</td>\n",
       "      <td>33.96</td>\n",
       "    </tr>\n",
       "    <tr>\n",
       "      <th>5</th>\n",
       "      <td>3</td>\n",
       "      <td>1</td>\n",
       "      <td>Chicken Bowl</td>\n",
       "      <td>[Fresh Tomato Salsa (Mild), [Rice, Cheese, Sou...</td>\n",
       "      <td>10.98</td>\n",
       "      <td>10.98</td>\n",
       "    </tr>\n",
       "    <tr>\n",
       "      <th>7</th>\n",
       "      <td>4</td>\n",
       "      <td>1</td>\n",
       "      <td>Steak Burrito</td>\n",
       "      <td>[Tomatillo Red Chili Salsa, [Fajita Vegetables...</td>\n",
       "      <td>11.75</td>\n",
       "      <td>11.75</td>\n",
       "    </tr>\n",
       "    <tr>\n",
       "      <th>13</th>\n",
       "      <td>7</td>\n",
       "      <td>1</td>\n",
       "      <td>Chicken Bowl</td>\n",
       "      <td>[Fresh Tomato Salsa, [Fajita Vegetables, Rice,...</td>\n",
       "      <td>11.25</td>\n",
       "      <td>11.25</td>\n",
       "    </tr>\n",
       "    <tr>\n",
       "      <th>23</th>\n",
       "      <td>12</td>\n",
       "      <td>1</td>\n",
       "      <td>Chicken Burrito</td>\n",
       "      <td>[[Tomatillo-Green Chili Salsa (Medium), Tomati...</td>\n",
       "      <td>10.98</td>\n",
       "      <td>10.98</td>\n",
       "    </tr>\n",
       "    <tr>\n",
       "      <th>...</th>\n",
       "      <td>...</td>\n",
       "      <td>...</td>\n",
       "      <td>...</td>\n",
       "      <td>...</td>\n",
       "      <td>...</td>\n",
       "      <td>...</td>\n",
       "    </tr>\n",
       "    <tr>\n",
       "      <th>4610</th>\n",
       "      <td>1830</td>\n",
       "      <td>1</td>\n",
       "      <td>Steak Burrito</td>\n",
       "      <td>[Fresh Tomato Salsa, [Rice, Sour Cream, Cheese...</td>\n",
       "      <td>11.75</td>\n",
       "      <td>11.75</td>\n",
       "    </tr>\n",
       "    <tr>\n",
       "      <th>4611</th>\n",
       "      <td>1830</td>\n",
       "      <td>1</td>\n",
       "      <td>Veggie Burrito</td>\n",
       "      <td>[Tomatillo Green Chili Salsa, [Rice, Fajita Ve...</td>\n",
       "      <td>11.25</td>\n",
       "      <td>11.25</td>\n",
       "    </tr>\n",
       "    <tr>\n",
       "      <th>4617</th>\n",
       "      <td>1833</td>\n",
       "      <td>1</td>\n",
       "      <td>Steak Burrito</td>\n",
       "      <td>[Fresh Tomato Salsa, [Rice, Black Beans, Sour ...</td>\n",
       "      <td>11.75</td>\n",
       "      <td>11.75</td>\n",
       "    </tr>\n",
       "    <tr>\n",
       "      <th>4618</th>\n",
       "      <td>1833</td>\n",
       "      <td>1</td>\n",
       "      <td>Steak Burrito</td>\n",
       "      <td>[Fresh Tomato Salsa, [Rice, Sour Cream, Cheese...</td>\n",
       "      <td>11.75</td>\n",
       "      <td>11.75</td>\n",
       "    </tr>\n",
       "    <tr>\n",
       "      <th>4619</th>\n",
       "      <td>1834</td>\n",
       "      <td>1</td>\n",
       "      <td>Chicken Salad Bowl</td>\n",
       "      <td>[Fresh Tomato Salsa, [Fajita Vegetables, Pinto...</td>\n",
       "      <td>11.25</td>\n",
       "      <td>11.25</td>\n",
       "    </tr>\n",
       "  </tbody>\n",
       "</table>\n",
       "<p>1130 rows × 6 columns</p>\n",
       "</div>"
      ],
      "text/plain": [
       "      order_id  quantity           item_name  \\\n",
       "4            2         2        Chicken Bowl   \n",
       "5            3         1        Chicken Bowl   \n",
       "7            4         1       Steak Burrito   \n",
       "13           7         1        Chicken Bowl   \n",
       "23          12         1     Chicken Burrito   \n",
       "...        ...       ...                 ...   \n",
       "4610      1830         1       Steak Burrito   \n",
       "4611      1830         1      Veggie Burrito   \n",
       "4617      1833         1       Steak Burrito   \n",
       "4618      1833         1       Steak Burrito   \n",
       "4619      1834         1  Chicken Salad Bowl   \n",
       "\n",
       "                                     choice_description  item_price  revenue  \n",
       "4     [Tomatillo-Red Chili Salsa (Hot), [Black Beans...       16.98    33.96  \n",
       "5     [Fresh Tomato Salsa (Mild), [Rice, Cheese, Sou...       10.98    10.98  \n",
       "7     [Tomatillo Red Chili Salsa, [Fajita Vegetables...       11.75    11.75  \n",
       "13    [Fresh Tomato Salsa, [Fajita Vegetables, Rice,...       11.25    11.25  \n",
       "23    [[Tomatillo-Green Chili Salsa (Medium), Tomati...       10.98    10.98  \n",
       "...                                                 ...         ...      ...  \n",
       "4610  [Fresh Tomato Salsa, [Rice, Sour Cream, Cheese...       11.75    11.75  \n",
       "4611  [Tomatillo Green Chili Salsa, [Rice, Fajita Ve...       11.25    11.25  \n",
       "4617  [Fresh Tomato Salsa, [Rice, Black Beans, Sour ...       11.75    11.75  \n",
       "4618  [Fresh Tomato Salsa, [Rice, Sour Cream, Cheese...       11.75    11.75  \n",
       "4619  [Fresh Tomato Salsa, [Fajita Vegetables, Pinto...       11.25    11.25  \n",
       "\n",
       "[1130 rows x 6 columns]"
      ]
     },
     "execution_count": 135,
     "metadata": {},
     "output_type": "execute_result"
    }
   ],
   "source": [
    "masde10"
   ]
  },
  {
   "cell_type": "code",
   "execution_count": 136,
   "metadata": {
    "collapsed": false,
    "jupyter": {
     "outputs_hidden": false
    }
   },
   "outputs": [
    {
     "data": {
      "text/plain": [
       "array([16.98, 10.98, 11.75, 11.25, 22.5 , 11.48, 17.98, 17.5 , 23.78,\n",
       "       11.08, 22.16, 32.94, 22.2 , 10.58, 23.5 , 18.5 , 11.89, 35.  ,\n",
       "       27.75, 11.8 , 26.25, 21.96, 13.35, 22.96, 26.07, 12.98, 35.25,\n",
       "       44.25, 10.5 , 33.75, 16.38, 13.52, 15.  , 17.8 , 11.49])"
      ]
     },
     "execution_count": 136,
     "metadata": {},
     "output_type": "execute_result"
    }
   ],
   "source": [
    "masde10['item_price'].unique()"
   ]
  },
  {
   "cell_type": "code",
   "execution_count": 137,
   "metadata": {},
   "outputs": [
    {
     "data": {
      "text/html": [
       "<div>\n",
       "<style scoped>\n",
       "    .dataframe tbody tr th:only-of-type {\n",
       "        vertical-align: middle;\n",
       "    }\n",
       "\n",
       "    .dataframe tbody tr th {\n",
       "        vertical-align: top;\n",
       "    }\n",
       "\n",
       "    .dataframe thead th {\n",
       "        text-align: right;\n",
       "    }\n",
       "</style>\n",
       "<table border=\"1\" class=\"dataframe\">\n",
       "  <thead>\n",
       "    <tr style=\"text-align: right;\">\n",
       "      <th></th>\n",
       "      <th>item_price</th>\n",
       "      <th>item_name</th>\n",
       "    </tr>\n",
       "  </thead>\n",
       "  <tbody>\n",
       "    <tr>\n",
       "      <th>4</th>\n",
       "      <td>16.98</td>\n",
       "      <td>Chicken Bowl</td>\n",
       "    </tr>\n",
       "    <tr>\n",
       "      <th>5</th>\n",
       "      <td>10.98</td>\n",
       "      <td>Chicken Bowl</td>\n",
       "    </tr>\n",
       "    <tr>\n",
       "      <th>7</th>\n",
       "      <td>11.75</td>\n",
       "      <td>Steak Burrito</td>\n",
       "    </tr>\n",
       "    <tr>\n",
       "      <th>13</th>\n",
       "      <td>11.25</td>\n",
       "      <td>Chicken Bowl</td>\n",
       "    </tr>\n",
       "    <tr>\n",
       "      <th>23</th>\n",
       "      <td>10.98</td>\n",
       "      <td>Chicken Burrito</td>\n",
       "    </tr>\n",
       "    <tr>\n",
       "      <th>...</th>\n",
       "      <td>...</td>\n",
       "      <td>...</td>\n",
       "    </tr>\n",
       "    <tr>\n",
       "      <th>4610</th>\n",
       "      <td>11.75</td>\n",
       "      <td>Steak Burrito</td>\n",
       "    </tr>\n",
       "    <tr>\n",
       "      <th>4611</th>\n",
       "      <td>11.25</td>\n",
       "      <td>Veggie Burrito</td>\n",
       "    </tr>\n",
       "    <tr>\n",
       "      <th>4617</th>\n",
       "      <td>11.75</td>\n",
       "      <td>Steak Burrito</td>\n",
       "    </tr>\n",
       "    <tr>\n",
       "      <th>4618</th>\n",
       "      <td>11.75</td>\n",
       "      <td>Steak Burrito</td>\n",
       "    </tr>\n",
       "    <tr>\n",
       "      <th>4619</th>\n",
       "      <td>11.25</td>\n",
       "      <td>Chicken Salad Bowl</td>\n",
       "    </tr>\n",
       "  </tbody>\n",
       "</table>\n",
       "<p>1130 rows × 2 columns</p>\n",
       "</div>"
      ],
      "text/plain": [
       "      item_price           item_name\n",
       "4          16.98        Chicken Bowl\n",
       "5          10.98        Chicken Bowl\n",
       "7          11.75       Steak Burrito\n",
       "13         11.25        Chicken Bowl\n",
       "23         10.98     Chicken Burrito\n",
       "...          ...                 ...\n",
       "4610       11.75       Steak Burrito\n",
       "4611       11.25      Veggie Burrito\n",
       "4617       11.75       Steak Burrito\n",
       "4618       11.75       Steak Burrito\n",
       "4619       11.25  Chicken Salad Bowl\n",
       "\n",
       "[1130 rows x 2 columns]"
      ]
     },
     "execution_count": 137,
     "metadata": {},
     "output_type": "execute_result"
    }
   ],
   "source": [
    "priceperitem = masde10[['item_price','item_name']]\n",
    "priceperitem"
   ]
  },
  {
   "cell_type": "code",
   "execution_count": 138,
   "metadata": {},
   "outputs": [
    {
     "data": {
      "text/html": [
       "<div>\n",
       "<style scoped>\n",
       "    .dataframe tbody tr th:only-of-type {\n",
       "        vertical-align: middle;\n",
       "    }\n",
       "\n",
       "    .dataframe tbody tr th {\n",
       "        vertical-align: top;\n",
       "    }\n",
       "\n",
       "    .dataframe thead th {\n",
       "        text-align: right;\n",
       "    }\n",
       "</style>\n",
       "<table border=\"1\" class=\"dataframe\">\n",
       "  <thead>\n",
       "    <tr style=\"text-align: right;\">\n",
       "      <th></th>\n",
       "      <th>item_price</th>\n",
       "      <th>item_name</th>\n",
       "    </tr>\n",
       "  </thead>\n",
       "  <tbody>\n",
       "    <tr>\n",
       "      <th>0</th>\n",
       "      <td>16.98</td>\n",
       "      <td>Chicken Bowl</td>\n",
       "    </tr>\n",
       "    <tr>\n",
       "      <th>1</th>\n",
       "      <td>10.98</td>\n",
       "      <td>Chicken Bowl</td>\n",
       "    </tr>\n",
       "    <tr>\n",
       "      <th>2</th>\n",
       "      <td>11.75</td>\n",
       "      <td>Steak Burrito</td>\n",
       "    </tr>\n",
       "    <tr>\n",
       "      <th>3</th>\n",
       "      <td>11.25</td>\n",
       "      <td>Chicken Bowl</td>\n",
       "    </tr>\n",
       "    <tr>\n",
       "      <th>4</th>\n",
       "      <td>10.98</td>\n",
       "      <td>Chicken Burrito</td>\n",
       "    </tr>\n",
       "    <tr>\n",
       "      <th>...</th>\n",
       "      <td>...</td>\n",
       "      <td>...</td>\n",
       "    </tr>\n",
       "    <tr>\n",
       "      <th>1125</th>\n",
       "      <td>11.75</td>\n",
       "      <td>Steak Burrito</td>\n",
       "    </tr>\n",
       "    <tr>\n",
       "      <th>1126</th>\n",
       "      <td>11.25</td>\n",
       "      <td>Veggie Burrito</td>\n",
       "    </tr>\n",
       "    <tr>\n",
       "      <th>1127</th>\n",
       "      <td>11.75</td>\n",
       "      <td>Steak Burrito</td>\n",
       "    </tr>\n",
       "    <tr>\n",
       "      <th>1128</th>\n",
       "      <td>11.75</td>\n",
       "      <td>Steak Burrito</td>\n",
       "    </tr>\n",
       "    <tr>\n",
       "      <th>1129</th>\n",
       "      <td>11.25</td>\n",
       "      <td>Chicken Salad Bowl</td>\n",
       "    </tr>\n",
       "  </tbody>\n",
       "</table>\n",
       "<p>1130 rows × 2 columns</p>\n",
       "</div>"
      ],
      "text/plain": [
       "      item_price           item_name\n",
       "0          16.98        Chicken Bowl\n",
       "1          10.98        Chicken Bowl\n",
       "2          11.75       Steak Burrito\n",
       "3          11.25        Chicken Bowl\n",
       "4          10.98     Chicken Burrito\n",
       "...          ...                 ...\n",
       "1125       11.75       Steak Burrito\n",
       "1126       11.25      Veggie Burrito\n",
       "1127       11.75       Steak Burrito\n",
       "1128       11.75       Steak Burrito\n",
       "1129       11.25  Chicken Salad Bowl\n",
       "\n",
       "[1130 rows x 2 columns]"
      ]
     },
     "execution_count": 138,
     "metadata": {},
     "output_type": "execute_result"
    }
   ],
   "source": [
    "priceperitem.reset_index(drop=True)"
   ]
  },
  {
   "cell_type": "code",
   "execution_count": 139,
   "metadata": {},
   "outputs": [
    {
     "data": {
      "text/plain": [
       "4       16.98\n",
       "5       10.98\n",
       "13      11.25\n",
       "42      11.25\n",
       "123     11.25\n",
       "        ...  \n",
       "4576    11.25\n",
       "4586    11.25\n",
       "4587    11.25\n",
       "4589    11.25\n",
       "4590    11.25\n",
       "Name: item_price, Length: 304, dtype: float64"
      ]
     },
     "execution_count": 139,
     "metadata": {},
     "output_type": "execute_result"
    }
   ],
   "source": [
    "# tenemos 31 items distintos que cuestan más de 10$ y aquí tenemos 1130 filas,\n",
    "# pero es porque puede haber un mismo item (como Chicken Bowl) que cueste distinto,\n",
    "# ya que tiene diferentes ingredientes\n",
    "\n",
    "priceperitem.loc[priceperitem['item_name'] == 'Chicken Bowl', 'item_price']"
   ]
  },
  {
   "cell_type": "markdown",
   "metadata": {},
   "source": [
    "### Step 6. Sort by the name of the item"
   ]
  },
  {
   "cell_type": "code",
   "execution_count": 140,
   "metadata": {
    "collapsed": false,
    "jupyter": {
     "outputs_hidden": false
    }
   },
   "outputs": [
    {
     "data": {
      "text/html": [
       "<div>\n",
       "<style scoped>\n",
       "    .dataframe tbody tr th:only-of-type {\n",
       "        vertical-align: middle;\n",
       "    }\n",
       "\n",
       "    .dataframe tbody tr th {\n",
       "        vertical-align: top;\n",
       "    }\n",
       "\n",
       "    .dataframe thead th {\n",
       "        text-align: right;\n",
       "    }\n",
       "</style>\n",
       "<table border=\"1\" class=\"dataframe\">\n",
       "  <thead>\n",
       "    <tr style=\"text-align: right;\">\n",
       "      <th></th>\n",
       "      <th>item_price</th>\n",
       "      <th>item_name</th>\n",
       "    </tr>\n",
       "  </thead>\n",
       "  <tbody>\n",
       "    <tr>\n",
       "      <th>3389</th>\n",
       "      <td>12.98</td>\n",
       "      <td>6 Pack Soft Drink</td>\n",
       "    </tr>\n",
       "    <tr>\n",
       "      <th>1643</th>\n",
       "      <td>11.75</td>\n",
       "      <td>Barbacoa Bowl</td>\n",
       "    </tr>\n",
       "    <tr>\n",
       "      <th>919</th>\n",
       "      <td>11.75</td>\n",
       "      <td>Barbacoa Bowl</td>\n",
       "    </tr>\n",
       "    <tr>\n",
       "      <th>3547</th>\n",
       "      <td>11.75</td>\n",
       "      <td>Barbacoa Bowl</td>\n",
       "    </tr>\n",
       "    <tr>\n",
       "      <th>4510</th>\n",
       "      <td>11.49</td>\n",
       "      <td>Barbacoa Bowl</td>\n",
       "    </tr>\n",
       "    <tr>\n",
       "      <th>...</th>\n",
       "      <td>...</td>\n",
       "      <td>...</td>\n",
       "    </tr>\n",
       "    <tr>\n",
       "      <th>186</th>\n",
       "      <td>11.25</td>\n",
       "      <td>Veggie Salad Bowl</td>\n",
       "    </tr>\n",
       "    <tr>\n",
       "      <th>295</th>\n",
       "      <td>11.25</td>\n",
       "      <td>Veggie Salad Bowl</td>\n",
       "    </tr>\n",
       "    <tr>\n",
       "      <th>3889</th>\n",
       "      <td>16.98</td>\n",
       "      <td>Veggie Soft Tacos</td>\n",
       "    </tr>\n",
       "    <tr>\n",
       "      <th>738</th>\n",
       "      <td>11.25</td>\n",
       "      <td>Veggie Soft Tacos</td>\n",
       "    </tr>\n",
       "    <tr>\n",
       "      <th>1699</th>\n",
       "      <td>11.25</td>\n",
       "      <td>Veggie Soft Tacos</td>\n",
       "    </tr>\n",
       "  </tbody>\n",
       "</table>\n",
       "<p>1130 rows × 2 columns</p>\n",
       "</div>"
      ],
      "text/plain": [
       "      item_price          item_name\n",
       "3389       12.98  6 Pack Soft Drink\n",
       "1643       11.75      Barbacoa Bowl\n",
       "919        11.75      Barbacoa Bowl\n",
       "3547       11.75      Barbacoa Bowl\n",
       "4510       11.49      Barbacoa Bowl\n",
       "...          ...                ...\n",
       "186        11.25  Veggie Salad Bowl\n",
       "295        11.25  Veggie Salad Bowl\n",
       "3889       16.98  Veggie Soft Tacos\n",
       "738        11.25  Veggie Soft Tacos\n",
       "1699       11.25  Veggie Soft Tacos\n",
       "\n",
       "[1130 rows x 2 columns]"
      ]
     },
     "execution_count": 140,
     "metadata": {},
     "output_type": "execute_result"
    }
   ],
   "source": [
    "priceperitem.sort_values('item_name')"
   ]
  },
  {
   "cell_type": "markdown",
   "metadata": {},
   "source": [
    "### Step 7. What was the quantity of the most expensive item ordered?"
   ]
  },
  {
   "cell_type": "code",
   "execution_count": 141,
   "metadata": {},
   "outputs": [
    {
     "data": {
      "text/plain": [
       "15"
      ]
     },
     "execution_count": 141,
     "metadata": {},
     "output_type": "execute_result"
    }
   ],
   "source": [
    "chipo.loc[chipo['item_price'].idxmax(),'quantity']"
   ]
  },
  {
   "cell_type": "markdown",
   "metadata": {},
   "source": [
    "### Step 8. How many times was a Veggie Salad Bowl ordered?"
   ]
  },
  {
   "cell_type": "code",
   "execution_count": 148,
   "metadata": {},
   "outputs": [
    {
     "data": {
      "text/plain": [
       "18"
      ]
     },
     "execution_count": 148,
     "metadata": {},
     "output_type": "execute_result"
    }
   ],
   "source": [
    "salad = chipo[chipo['item_name'] == 'Veggie Salad Bowl']\n",
    "len(salad)"
   ]
  },
  {
   "cell_type": "markdown",
   "metadata": {},
   "source": [
    "### Step 9. How many times did someone order more than one Canned Soda?"
   ]
  },
  {
   "cell_type": "code",
   "execution_count": 185,
   "metadata": {
    "collapsed": false,
    "jupyter": {
     "outputs_hidden": false
    }
   },
   "outputs": [
    {
     "data": {
      "text/html": [
       "<div>\n",
       "<style scoped>\n",
       "    .dataframe tbody tr th:only-of-type {\n",
       "        vertical-align: middle;\n",
       "    }\n",
       "\n",
       "    .dataframe tbody tr th {\n",
       "        vertical-align: top;\n",
       "    }\n",
       "\n",
       "    .dataframe thead th {\n",
       "        text-align: right;\n",
       "    }\n",
       "</style>\n",
       "<table border=\"1\" class=\"dataframe\">\n",
       "  <thead>\n",
       "    <tr style=\"text-align: right;\">\n",
       "      <th></th>\n",
       "      <th>order_id</th>\n",
       "      <th>quantity</th>\n",
       "      <th>item_name</th>\n",
       "      <th>choice_description</th>\n",
       "      <th>item_price</th>\n",
       "      <th>revenue</th>\n",
       "    </tr>\n",
       "  </thead>\n",
       "  <tbody>\n",
       "    <tr>\n",
       "      <th>18</th>\n",
       "      <td>9</td>\n",
       "      <td>2</td>\n",
       "      <td>Canned Soda</td>\n",
       "      <td>[Sprite]</td>\n",
       "      <td>2.18</td>\n",
       "      <td>4.36</td>\n",
       "    </tr>\n",
       "    <tr>\n",
       "      <th>51</th>\n",
       "      <td>23</td>\n",
       "      <td>2</td>\n",
       "      <td>Canned Soda</td>\n",
       "      <td>[Mountain Dew]</td>\n",
       "      <td>2.18</td>\n",
       "      <td>4.36</td>\n",
       "    </tr>\n",
       "    <tr>\n",
       "      <th>162</th>\n",
       "      <td>73</td>\n",
       "      <td>2</td>\n",
       "      <td>Canned Soda</td>\n",
       "      <td>[Diet Coke]</td>\n",
       "      <td>2.18</td>\n",
       "      <td>4.36</td>\n",
       "    </tr>\n",
       "    <tr>\n",
       "      <th>171</th>\n",
       "      <td>76</td>\n",
       "      <td>2</td>\n",
       "      <td>Canned Soda</td>\n",
       "      <td>[Diet Dr. Pepper]</td>\n",
       "      <td>2.18</td>\n",
       "      <td>4.36</td>\n",
       "    </tr>\n",
       "    <tr>\n",
       "      <th>350</th>\n",
       "      <td>150</td>\n",
       "      <td>2</td>\n",
       "      <td>Canned Soda</td>\n",
       "      <td>[Diet Coke]</td>\n",
       "      <td>2.18</td>\n",
       "      <td>4.36</td>\n",
       "    </tr>\n",
       "    <tr>\n",
       "      <th>352</th>\n",
       "      <td>151</td>\n",
       "      <td>2</td>\n",
       "      <td>Canned Soda</td>\n",
       "      <td>[Coca Cola]</td>\n",
       "      <td>2.18</td>\n",
       "      <td>4.36</td>\n",
       "    </tr>\n",
       "    <tr>\n",
       "      <th>698</th>\n",
       "      <td>287</td>\n",
       "      <td>2</td>\n",
       "      <td>Canned Soda</td>\n",
       "      <td>[Coca Cola]</td>\n",
       "      <td>2.18</td>\n",
       "      <td>4.36</td>\n",
       "    </tr>\n",
       "    <tr>\n",
       "      <th>700</th>\n",
       "      <td>288</td>\n",
       "      <td>2</td>\n",
       "      <td>Canned Soda</td>\n",
       "      <td>[Coca Cola]</td>\n",
       "      <td>2.18</td>\n",
       "      <td>4.36</td>\n",
       "    </tr>\n",
       "    <tr>\n",
       "      <th>909</th>\n",
       "      <td>376</td>\n",
       "      <td>2</td>\n",
       "      <td>Canned Soda</td>\n",
       "      <td>[Mountain Dew]</td>\n",
       "      <td>2.18</td>\n",
       "      <td>4.36</td>\n",
       "    </tr>\n",
       "    <tr>\n",
       "      <th>1091</th>\n",
       "      <td>450</td>\n",
       "      <td>2</td>\n",
       "      <td>Canned Soda</td>\n",
       "      <td>[Dr. Pepper]</td>\n",
       "      <td>2.18</td>\n",
       "      <td>4.36</td>\n",
       "    </tr>\n",
       "    <tr>\n",
       "      <th>1092</th>\n",
       "      <td>450</td>\n",
       "      <td>2</td>\n",
       "      <td>Canned Soda</td>\n",
       "      <td>[Coca Cola]</td>\n",
       "      <td>2.18</td>\n",
       "      <td>4.36</td>\n",
       "    </tr>\n",
       "    <tr>\n",
       "      <th>1944</th>\n",
       "      <td>787</td>\n",
       "      <td>2</td>\n",
       "      <td>Canned Soda</td>\n",
       "      <td>[Dr. Pepper]</td>\n",
       "      <td>2.18</td>\n",
       "      <td>4.36</td>\n",
       "    </tr>\n",
       "    <tr>\n",
       "      <th>2135</th>\n",
       "      <td>859</td>\n",
       "      <td>2</td>\n",
       "      <td>Canned Soda</td>\n",
       "      <td>[Diet Coke]</td>\n",
       "      <td>2.18</td>\n",
       "      <td>4.36</td>\n",
       "    </tr>\n",
       "    <tr>\n",
       "      <th>2235</th>\n",
       "      <td>901</td>\n",
       "      <td>4</td>\n",
       "      <td>Canned Soda</td>\n",
       "      <td>[Sprite]</td>\n",
       "      <td>4.36</td>\n",
       "      <td>17.44</td>\n",
       "    </tr>\n",
       "    <tr>\n",
       "      <th>2905</th>\n",
       "      <td>1156</td>\n",
       "      <td>2</td>\n",
       "      <td>Canned Soda</td>\n",
       "      <td>[Coca Cola]</td>\n",
       "      <td>2.18</td>\n",
       "      <td>4.36</td>\n",
       "    </tr>\n",
       "    <tr>\n",
       "      <th>2906</th>\n",
       "      <td>1156</td>\n",
       "      <td>2</td>\n",
       "      <td>Canned Soda</td>\n",
       "      <td>[Sprite]</td>\n",
       "      <td>2.18</td>\n",
       "      <td>4.36</td>\n",
       "    </tr>\n",
       "    <tr>\n",
       "      <th>3152</th>\n",
       "      <td>1258</td>\n",
       "      <td>2</td>\n",
       "      <td>Canned Soda</td>\n",
       "      <td>[Dr. Pepper]</td>\n",
       "      <td>2.18</td>\n",
       "      <td>4.36</td>\n",
       "    </tr>\n",
       "    <tr>\n",
       "      <th>3364</th>\n",
       "      <td>1349</td>\n",
       "      <td>2</td>\n",
       "      <td>Canned Soda</td>\n",
       "      <td>[Coca Cola]</td>\n",
       "      <td>2.18</td>\n",
       "      <td>4.36</td>\n",
       "    </tr>\n",
       "    <tr>\n",
       "      <th>3592</th>\n",
       "      <td>1440</td>\n",
       "      <td>2</td>\n",
       "      <td>Canned Soda</td>\n",
       "      <td>[Diet Coke]</td>\n",
       "      <td>2.18</td>\n",
       "      <td>4.36</td>\n",
       "    </tr>\n",
       "    <tr>\n",
       "      <th>3866</th>\n",
       "      <td>1550</td>\n",
       "      <td>2</td>\n",
       "      <td>Canned Soda</td>\n",
       "      <td>[Mountain Dew]</td>\n",
       "      <td>2.18</td>\n",
       "      <td>4.36</td>\n",
       "    </tr>\n",
       "  </tbody>\n",
       "</table>\n",
       "</div>"
      ],
      "text/plain": [
       "      order_id  quantity    item_name choice_description  item_price  revenue\n",
       "18           9         2  Canned Soda           [Sprite]        2.18     4.36\n",
       "51          23         2  Canned Soda     [Mountain Dew]        2.18     4.36\n",
       "162         73         2  Canned Soda        [Diet Coke]        2.18     4.36\n",
       "171         76         2  Canned Soda  [Diet Dr. Pepper]        2.18     4.36\n",
       "350        150         2  Canned Soda        [Diet Coke]        2.18     4.36\n",
       "352        151         2  Canned Soda        [Coca Cola]        2.18     4.36\n",
       "698        287         2  Canned Soda        [Coca Cola]        2.18     4.36\n",
       "700        288         2  Canned Soda        [Coca Cola]        2.18     4.36\n",
       "909        376         2  Canned Soda     [Mountain Dew]        2.18     4.36\n",
       "1091       450         2  Canned Soda       [Dr. Pepper]        2.18     4.36\n",
       "1092       450         2  Canned Soda        [Coca Cola]        2.18     4.36\n",
       "1944       787         2  Canned Soda       [Dr. Pepper]        2.18     4.36\n",
       "2135       859         2  Canned Soda        [Diet Coke]        2.18     4.36\n",
       "2235       901         4  Canned Soda           [Sprite]        4.36    17.44\n",
       "2905      1156         2  Canned Soda        [Coca Cola]        2.18     4.36\n",
       "2906      1156         2  Canned Soda           [Sprite]        2.18     4.36\n",
       "3152      1258         2  Canned Soda       [Dr. Pepper]        2.18     4.36\n",
       "3364      1349         2  Canned Soda        [Coca Cola]        2.18     4.36\n",
       "3592      1440         2  Canned Soda        [Diet Coke]        2.18     4.36\n",
       "3866      1550         2  Canned Soda     [Mountain Dew]        2.18     4.36"
      ]
     },
     "execution_count": 185,
     "metadata": {},
     "output_type": "execute_result"
    }
   ],
   "source": [
    "# creating 2 masks separately\n",
    "soda = chipo['item_name'] == 'Canned Soda'\n",
    "quantity2 = chipo['quantity'] > 1\n",
    "soda2 = chipo[soda & quantity2]\n",
    "soda2"
   ]
  },
  {
   "cell_type": "code",
   "execution_count": 193,
   "metadata": {},
   "outputs": [
    {
     "data": {
      "text/html": [
       "<div>\n",
       "<style scoped>\n",
       "    .dataframe tbody tr th:only-of-type {\n",
       "        vertical-align: middle;\n",
       "    }\n",
       "\n",
       "    .dataframe tbody tr th {\n",
       "        vertical-align: top;\n",
       "    }\n",
       "\n",
       "    .dataframe thead th {\n",
       "        text-align: right;\n",
       "    }\n",
       "</style>\n",
       "<table border=\"1\" class=\"dataframe\">\n",
       "  <thead>\n",
       "    <tr style=\"text-align: right;\">\n",
       "      <th></th>\n",
       "      <th>order_id</th>\n",
       "      <th>quantity</th>\n",
       "      <th>item_name</th>\n",
       "      <th>choice_description</th>\n",
       "      <th>item_price</th>\n",
       "      <th>revenue</th>\n",
       "    </tr>\n",
       "  </thead>\n",
       "  <tbody>\n",
       "    <tr>\n",
       "      <th>18</th>\n",
       "      <td>9</td>\n",
       "      <td>2</td>\n",
       "      <td>Canned Soda</td>\n",
       "      <td>[Sprite]</td>\n",
       "      <td>2.18</td>\n",
       "      <td>4.36</td>\n",
       "    </tr>\n",
       "    <tr>\n",
       "      <th>51</th>\n",
       "      <td>23</td>\n",
       "      <td>2</td>\n",
       "      <td>Canned Soda</td>\n",
       "      <td>[Mountain Dew]</td>\n",
       "      <td>2.18</td>\n",
       "      <td>4.36</td>\n",
       "    </tr>\n",
       "    <tr>\n",
       "      <th>162</th>\n",
       "      <td>73</td>\n",
       "      <td>2</td>\n",
       "      <td>Canned Soda</td>\n",
       "      <td>[Diet Coke]</td>\n",
       "      <td>2.18</td>\n",
       "      <td>4.36</td>\n",
       "    </tr>\n",
       "    <tr>\n",
       "      <th>171</th>\n",
       "      <td>76</td>\n",
       "      <td>2</td>\n",
       "      <td>Canned Soda</td>\n",
       "      <td>[Diet Dr. Pepper]</td>\n",
       "      <td>2.18</td>\n",
       "      <td>4.36</td>\n",
       "    </tr>\n",
       "    <tr>\n",
       "      <th>350</th>\n",
       "      <td>150</td>\n",
       "      <td>2</td>\n",
       "      <td>Canned Soda</td>\n",
       "      <td>[Diet Coke]</td>\n",
       "      <td>2.18</td>\n",
       "      <td>4.36</td>\n",
       "    </tr>\n",
       "    <tr>\n",
       "      <th>352</th>\n",
       "      <td>151</td>\n",
       "      <td>2</td>\n",
       "      <td>Canned Soda</td>\n",
       "      <td>[Coca Cola]</td>\n",
       "      <td>2.18</td>\n",
       "      <td>4.36</td>\n",
       "    </tr>\n",
       "    <tr>\n",
       "      <th>698</th>\n",
       "      <td>287</td>\n",
       "      <td>2</td>\n",
       "      <td>Canned Soda</td>\n",
       "      <td>[Coca Cola]</td>\n",
       "      <td>2.18</td>\n",
       "      <td>4.36</td>\n",
       "    </tr>\n",
       "    <tr>\n",
       "      <th>700</th>\n",
       "      <td>288</td>\n",
       "      <td>2</td>\n",
       "      <td>Canned Soda</td>\n",
       "      <td>[Coca Cola]</td>\n",
       "      <td>2.18</td>\n",
       "      <td>4.36</td>\n",
       "    </tr>\n",
       "    <tr>\n",
       "      <th>909</th>\n",
       "      <td>376</td>\n",
       "      <td>2</td>\n",
       "      <td>Canned Soda</td>\n",
       "      <td>[Mountain Dew]</td>\n",
       "      <td>2.18</td>\n",
       "      <td>4.36</td>\n",
       "    </tr>\n",
       "    <tr>\n",
       "      <th>1091</th>\n",
       "      <td>450</td>\n",
       "      <td>2</td>\n",
       "      <td>Canned Soda</td>\n",
       "      <td>[Dr. Pepper]</td>\n",
       "      <td>2.18</td>\n",
       "      <td>4.36</td>\n",
       "    </tr>\n",
       "    <tr>\n",
       "      <th>1092</th>\n",
       "      <td>450</td>\n",
       "      <td>2</td>\n",
       "      <td>Canned Soda</td>\n",
       "      <td>[Coca Cola]</td>\n",
       "      <td>2.18</td>\n",
       "      <td>4.36</td>\n",
       "    </tr>\n",
       "    <tr>\n",
       "      <th>1944</th>\n",
       "      <td>787</td>\n",
       "      <td>2</td>\n",
       "      <td>Canned Soda</td>\n",
       "      <td>[Dr. Pepper]</td>\n",
       "      <td>2.18</td>\n",
       "      <td>4.36</td>\n",
       "    </tr>\n",
       "    <tr>\n",
       "      <th>2135</th>\n",
       "      <td>859</td>\n",
       "      <td>2</td>\n",
       "      <td>Canned Soda</td>\n",
       "      <td>[Diet Coke]</td>\n",
       "      <td>2.18</td>\n",
       "      <td>4.36</td>\n",
       "    </tr>\n",
       "    <tr>\n",
       "      <th>2235</th>\n",
       "      <td>901</td>\n",
       "      <td>4</td>\n",
       "      <td>Canned Soda</td>\n",
       "      <td>[Sprite]</td>\n",
       "      <td>4.36</td>\n",
       "      <td>17.44</td>\n",
       "    </tr>\n",
       "    <tr>\n",
       "      <th>2905</th>\n",
       "      <td>1156</td>\n",
       "      <td>2</td>\n",
       "      <td>Canned Soda</td>\n",
       "      <td>[Coca Cola]</td>\n",
       "      <td>2.18</td>\n",
       "      <td>4.36</td>\n",
       "    </tr>\n",
       "    <tr>\n",
       "      <th>2906</th>\n",
       "      <td>1156</td>\n",
       "      <td>2</td>\n",
       "      <td>Canned Soda</td>\n",
       "      <td>[Sprite]</td>\n",
       "      <td>2.18</td>\n",
       "      <td>4.36</td>\n",
       "    </tr>\n",
       "    <tr>\n",
       "      <th>3152</th>\n",
       "      <td>1258</td>\n",
       "      <td>2</td>\n",
       "      <td>Canned Soda</td>\n",
       "      <td>[Dr. Pepper]</td>\n",
       "      <td>2.18</td>\n",
       "      <td>4.36</td>\n",
       "    </tr>\n",
       "    <tr>\n",
       "      <th>3364</th>\n",
       "      <td>1349</td>\n",
       "      <td>2</td>\n",
       "      <td>Canned Soda</td>\n",
       "      <td>[Coca Cola]</td>\n",
       "      <td>2.18</td>\n",
       "      <td>4.36</td>\n",
       "    </tr>\n",
       "    <tr>\n",
       "      <th>3592</th>\n",
       "      <td>1440</td>\n",
       "      <td>2</td>\n",
       "      <td>Canned Soda</td>\n",
       "      <td>[Diet Coke]</td>\n",
       "      <td>2.18</td>\n",
       "      <td>4.36</td>\n",
       "    </tr>\n",
       "    <tr>\n",
       "      <th>3866</th>\n",
       "      <td>1550</td>\n",
       "      <td>2</td>\n",
       "      <td>Canned Soda</td>\n",
       "      <td>[Mountain Dew]</td>\n",
       "      <td>2.18</td>\n",
       "      <td>4.36</td>\n",
       "    </tr>\n",
       "  </tbody>\n",
       "</table>\n",
       "</div>"
      ],
      "text/plain": [
       "      order_id  quantity    item_name choice_description  item_price  revenue\n",
       "18           9         2  Canned Soda           [Sprite]        2.18     4.36\n",
       "51          23         2  Canned Soda     [Mountain Dew]        2.18     4.36\n",
       "162         73         2  Canned Soda        [Diet Coke]        2.18     4.36\n",
       "171         76         2  Canned Soda  [Diet Dr. Pepper]        2.18     4.36\n",
       "350        150         2  Canned Soda        [Diet Coke]        2.18     4.36\n",
       "352        151         2  Canned Soda        [Coca Cola]        2.18     4.36\n",
       "698        287         2  Canned Soda        [Coca Cola]        2.18     4.36\n",
       "700        288         2  Canned Soda        [Coca Cola]        2.18     4.36\n",
       "909        376         2  Canned Soda     [Mountain Dew]        2.18     4.36\n",
       "1091       450         2  Canned Soda       [Dr. Pepper]        2.18     4.36\n",
       "1092       450         2  Canned Soda        [Coca Cola]        2.18     4.36\n",
       "1944       787         2  Canned Soda       [Dr. Pepper]        2.18     4.36\n",
       "2135       859         2  Canned Soda        [Diet Coke]        2.18     4.36\n",
       "2235       901         4  Canned Soda           [Sprite]        4.36    17.44\n",
       "2905      1156         2  Canned Soda        [Coca Cola]        2.18     4.36\n",
       "2906      1156         2  Canned Soda           [Sprite]        2.18     4.36\n",
       "3152      1258         2  Canned Soda       [Dr. Pepper]        2.18     4.36\n",
       "3364      1349         2  Canned Soda        [Coca Cola]        2.18     4.36\n",
       "3592      1440         2  Canned Soda        [Diet Coke]        2.18     4.36\n",
       "3866      1550         2  Canned Soda     [Mountain Dew]        2.18     4.36"
      ]
     },
     "execution_count": 193,
     "metadata": {},
     "output_type": "execute_result"
    }
   ],
   "source": [
    "# or do both masks in just one line of code\n",
    "sodados = chipo[(chipo['item_name'] == 'Canned Soda') & (chipo['quantity'] > 1)]\n",
    "sodados"
   ]
  },
  {
   "cell_type": "code",
   "execution_count": 199,
   "metadata": {},
   "outputs": [
    {
     "name": "stdout",
     "output_type": "stream",
     "text": [
      "More than one canned soda were sold 20 times\n"
     ]
    }
   ],
   "source": [
    "print(f\"More than one canned soda were sold {len(soda2)} times\")"
   ]
  }
 ],
 "metadata": {
  "anaconda-cloud": {},
  "kernelspec": {
   "display_name": "Python 3 (ipykernel)",
   "language": "python",
   "name": "python3"
  },
  "language_info": {
   "codemirror_mode": {
    "name": "ipython",
    "version": 3
   },
   "file_extension": ".py",
   "mimetype": "text/x-python",
   "name": "python",
   "nbconvert_exporter": "python",
   "pygments_lexer": "ipython3",
   "version": "3.12.4"
  }
 },
 "nbformat": 4,
 "nbformat_minor": 4
}
